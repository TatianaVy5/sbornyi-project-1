{
 "cells": [
  {
   "cell_type": "markdown",
   "metadata": {},
   "source": [
    "## Описание проекта\n",
    "\n",
    "Вы работаете в интернет-магазине «Стримчик», который продаёт по всему миру компьютерные игры. Из открытых источников доступны исторические данные о продажах игр, оценки пользователей и экспертов, жанры и платформы (например, Xbox или PlayStation). Вам нужно выявить определяющие успешность игры закономерности. Это позволит сделать ставку на потенциально популярный продукт и спланировать рекламные кампании.\n",
    "\n",
    "Перед вами данные до 2016 года. Представим, что сейчас декабрь 2016 г., и вы планируете кампанию на 2017-й. Нужно отработать принцип работы с данными. Неважно, прогнозируете ли вы продажи на 2017 год по данным 2016-го или же 2027-й — по данным 2026 года.\n",
    "\n",
    "В наборе данных попадается аббревиатура ESRB (Entertainment Software Rating Board) — это ассоциация, определяющая возрастной рейтинг компьютерных игр. ESRB оценивает игровой контент и присваивает ему подходящую возрастную категорию, например, «Для взрослых», «Для детей младшего возраста» или «Для подростков».\n",
    "\n",
    "### Ход работы:\n",
    "\n",
    "- Загрузить файл с данными и изучить общую информацию\n",
    "\n",
    "- Провести предобработку данных\n",
    "\n",
    "- Провести исследовательский анализ данных\n",
    "\n",
    "- Составить портрет пользователя каждого региона\n",
    "\n",
    "- Проверить гипотезы\n",
    "\n",
    "- Сделать общий вывод"
   ]
  },
  {
   "cell_type": "code",
   "execution_count": 170,
   "metadata": {},
   "outputs": [],
   "source": [
    "#импорт библиотек\n",
    "import pandas as pd\n",
    "import matplotlib.pyplot as plt\n",
    "from scipy import stats as st\n",
    "import seaborn as sns"
   ]
  },
  {
   "cell_type": "code",
   "execution_count": 171,
   "metadata": {},
   "outputs": [],
   "source": [
    "games = pd.read_csv('/datasets/games.csv')"
   ]
  },
  {
   "cell_type": "code",
   "execution_count": 172,
   "metadata": {},
   "outputs": [
    {
     "data": {
      "text/html": [
       "<div>\n",
       "<style scoped>\n",
       "    .dataframe tbody tr th:only-of-type {\n",
       "        vertical-align: middle;\n",
       "    }\n",
       "\n",
       "    .dataframe tbody tr th {\n",
       "        vertical-align: top;\n",
       "    }\n",
       "\n",
       "    .dataframe thead th {\n",
       "        text-align: right;\n",
       "    }\n",
       "</style>\n",
       "<table border=\"1\" class=\"dataframe\">\n",
       "  <thead>\n",
       "    <tr style=\"text-align: right;\">\n",
       "      <th></th>\n",
       "      <th>Name</th>\n",
       "      <th>Platform</th>\n",
       "      <th>Year_of_Release</th>\n",
       "      <th>Genre</th>\n",
       "      <th>NA_sales</th>\n",
       "      <th>EU_sales</th>\n",
       "      <th>JP_sales</th>\n",
       "      <th>Other_sales</th>\n",
       "      <th>Critic_Score</th>\n",
       "      <th>User_Score</th>\n",
       "      <th>Rating</th>\n",
       "    </tr>\n",
       "  </thead>\n",
       "  <tbody>\n",
       "    <tr>\n",
       "      <th>0</th>\n",
       "      <td>Wii Sports</td>\n",
       "      <td>Wii</td>\n",
       "      <td>2006.0</td>\n",
       "      <td>Sports</td>\n",
       "      <td>41.36</td>\n",
       "      <td>28.96</td>\n",
       "      <td>3.77</td>\n",
       "      <td>8.45</td>\n",
       "      <td>76.0</td>\n",
       "      <td>8</td>\n",
       "      <td>E</td>\n",
       "    </tr>\n",
       "    <tr>\n",
       "      <th>1</th>\n",
       "      <td>Super Mario Bros.</td>\n",
       "      <td>NES</td>\n",
       "      <td>1985.0</td>\n",
       "      <td>Platform</td>\n",
       "      <td>29.08</td>\n",
       "      <td>3.58</td>\n",
       "      <td>6.81</td>\n",
       "      <td>0.77</td>\n",
       "      <td>NaN</td>\n",
       "      <td>NaN</td>\n",
       "      <td>NaN</td>\n",
       "    </tr>\n",
       "    <tr>\n",
       "      <th>2</th>\n",
       "      <td>Mario Kart Wii</td>\n",
       "      <td>Wii</td>\n",
       "      <td>2008.0</td>\n",
       "      <td>Racing</td>\n",
       "      <td>15.68</td>\n",
       "      <td>12.76</td>\n",
       "      <td>3.79</td>\n",
       "      <td>3.29</td>\n",
       "      <td>82.0</td>\n",
       "      <td>8.3</td>\n",
       "      <td>E</td>\n",
       "    </tr>\n",
       "    <tr>\n",
       "      <th>3</th>\n",
       "      <td>Wii Sports Resort</td>\n",
       "      <td>Wii</td>\n",
       "      <td>2009.0</td>\n",
       "      <td>Sports</td>\n",
       "      <td>15.61</td>\n",
       "      <td>10.93</td>\n",
       "      <td>3.28</td>\n",
       "      <td>2.95</td>\n",
       "      <td>80.0</td>\n",
       "      <td>8</td>\n",
       "      <td>E</td>\n",
       "    </tr>\n",
       "    <tr>\n",
       "      <th>4</th>\n",
       "      <td>Pokemon Red/Pokemon Blue</td>\n",
       "      <td>GB</td>\n",
       "      <td>1996.0</td>\n",
       "      <td>Role-Playing</td>\n",
       "      <td>11.27</td>\n",
       "      <td>8.89</td>\n",
       "      <td>10.22</td>\n",
       "      <td>1.00</td>\n",
       "      <td>NaN</td>\n",
       "      <td>NaN</td>\n",
       "      <td>NaN</td>\n",
       "    </tr>\n",
       "    <tr>\n",
       "      <th>5</th>\n",
       "      <td>Tetris</td>\n",
       "      <td>GB</td>\n",
       "      <td>1989.0</td>\n",
       "      <td>Puzzle</td>\n",
       "      <td>23.20</td>\n",
       "      <td>2.26</td>\n",
       "      <td>4.22</td>\n",
       "      <td>0.58</td>\n",
       "      <td>NaN</td>\n",
       "      <td>NaN</td>\n",
       "      <td>NaN</td>\n",
       "    </tr>\n",
       "    <tr>\n",
       "      <th>6</th>\n",
       "      <td>New Super Mario Bros.</td>\n",
       "      <td>DS</td>\n",
       "      <td>2006.0</td>\n",
       "      <td>Platform</td>\n",
       "      <td>11.28</td>\n",
       "      <td>9.14</td>\n",
       "      <td>6.50</td>\n",
       "      <td>2.88</td>\n",
       "      <td>89.0</td>\n",
       "      <td>8.5</td>\n",
       "      <td>E</td>\n",
       "    </tr>\n",
       "    <tr>\n",
       "      <th>7</th>\n",
       "      <td>Wii Play</td>\n",
       "      <td>Wii</td>\n",
       "      <td>2006.0</td>\n",
       "      <td>Misc</td>\n",
       "      <td>13.96</td>\n",
       "      <td>9.18</td>\n",
       "      <td>2.93</td>\n",
       "      <td>2.84</td>\n",
       "      <td>58.0</td>\n",
       "      <td>6.6</td>\n",
       "      <td>E</td>\n",
       "    </tr>\n",
       "    <tr>\n",
       "      <th>8</th>\n",
       "      <td>New Super Mario Bros. Wii</td>\n",
       "      <td>Wii</td>\n",
       "      <td>2009.0</td>\n",
       "      <td>Platform</td>\n",
       "      <td>14.44</td>\n",
       "      <td>6.94</td>\n",
       "      <td>4.70</td>\n",
       "      <td>2.24</td>\n",
       "      <td>87.0</td>\n",
       "      <td>8.4</td>\n",
       "      <td>E</td>\n",
       "    </tr>\n",
       "    <tr>\n",
       "      <th>9</th>\n",
       "      <td>Duck Hunt</td>\n",
       "      <td>NES</td>\n",
       "      <td>1984.0</td>\n",
       "      <td>Shooter</td>\n",
       "      <td>26.93</td>\n",
       "      <td>0.63</td>\n",
       "      <td>0.28</td>\n",
       "      <td>0.47</td>\n",
       "      <td>NaN</td>\n",
       "      <td>NaN</td>\n",
       "      <td>NaN</td>\n",
       "    </tr>\n",
       "  </tbody>\n",
       "</table>\n",
       "</div>"
      ],
      "text/plain": [
       "                        Name Platform  Year_of_Release         Genre  \\\n",
       "0                 Wii Sports      Wii           2006.0        Sports   \n",
       "1          Super Mario Bros.      NES           1985.0      Platform   \n",
       "2             Mario Kart Wii      Wii           2008.0        Racing   \n",
       "3          Wii Sports Resort      Wii           2009.0        Sports   \n",
       "4   Pokemon Red/Pokemon Blue       GB           1996.0  Role-Playing   \n",
       "5                     Tetris       GB           1989.0        Puzzle   \n",
       "6      New Super Mario Bros.       DS           2006.0      Platform   \n",
       "7                   Wii Play      Wii           2006.0          Misc   \n",
       "8  New Super Mario Bros. Wii      Wii           2009.0      Platform   \n",
       "9                  Duck Hunt      NES           1984.0       Shooter   \n",
       "\n",
       "   NA_sales  EU_sales  JP_sales  Other_sales  Critic_Score User_Score Rating  \n",
       "0     41.36     28.96      3.77         8.45          76.0          8      E  \n",
       "1     29.08      3.58      6.81         0.77           NaN        NaN    NaN  \n",
       "2     15.68     12.76      3.79         3.29          82.0        8.3      E  \n",
       "3     15.61     10.93      3.28         2.95          80.0          8      E  \n",
       "4     11.27      8.89     10.22         1.00           NaN        NaN    NaN  \n",
       "5     23.20      2.26      4.22         0.58           NaN        NaN    NaN  \n",
       "6     11.28      9.14      6.50         2.88          89.0        8.5      E  \n",
       "7     13.96      9.18      2.93         2.84          58.0        6.6      E  \n",
       "8     14.44      6.94      4.70         2.24          87.0        8.4      E  \n",
       "9     26.93      0.63      0.28         0.47           NaN        NaN    NaN  "
      ]
     },
     "execution_count": 172,
     "metadata": {},
     "output_type": "execute_result"
    }
   ],
   "source": [
    "games.head(10)"
   ]
  },
  {
   "cell_type": "code",
   "execution_count": 173,
   "metadata": {},
   "outputs": [
    {
     "name": "stdout",
     "output_type": "stream",
     "text": [
      "<class 'pandas.core.frame.DataFrame'>\n",
      "RangeIndex: 16715 entries, 0 to 16714\n",
      "Data columns (total 11 columns):\n",
      " #   Column           Non-Null Count  Dtype  \n",
      "---  ------           --------------  -----  \n",
      " 0   Name             16713 non-null  object \n",
      " 1   Platform         16715 non-null  object \n",
      " 2   Year_of_Release  16446 non-null  float64\n",
      " 3   Genre            16713 non-null  object \n",
      " 4   NA_sales         16715 non-null  float64\n",
      " 5   EU_sales         16715 non-null  float64\n",
      " 6   JP_sales         16715 non-null  float64\n",
      " 7   Other_sales      16715 non-null  float64\n",
      " 8   Critic_Score     8137 non-null   float64\n",
      " 9   User_Score       10014 non-null  object \n",
      " 10  Rating           9949 non-null   object \n",
      "dtypes: float64(6), object(5)\n",
      "memory usage: 1.4+ MB\n"
     ]
    }
   ],
   "source": [
    "games.info()"
   ]
  },
  {
   "cell_type": "markdown",
   "metadata": {},
   "source": [
    "В таблице 16715 строк, 11 столбцов. Есть неверный вывод тип данных в столбцах: Year_of_Release, Critic_Score, User_Score.\n",
    "Видно имеется много пропусков."
   ]
  },
  {
   "cell_type": "code",
   "execution_count": 174,
   "metadata": {},
   "outputs": [
    {
     "data": {
      "text/plain": [
       "Name                  2\n",
       "Platform              0\n",
       "Year_of_Release     269\n",
       "Genre                 2\n",
       "NA_sales              0\n",
       "EU_sales              0\n",
       "JP_sales              0\n",
       "Other_sales           0\n",
       "Critic_Score       8578\n",
       "User_Score         6701\n",
       "Rating             6766\n",
       "dtype: int64"
      ]
     },
     "execution_count": 174,
     "metadata": {},
     "output_type": "execute_result"
    }
   ],
   "source": [
    "games.isnull().sum() "
   ]
  },
  {
   "cell_type": "code",
   "execution_count": 175,
   "metadata": {},
   "outputs": [
    {
     "data": {
      "text/plain": [
       "Name                0.011965\n",
       "Platform            0.000000\n",
       "Year_of_Release     1.609333\n",
       "Genre               0.011965\n",
       "NA_sales            0.000000\n",
       "EU_sales            0.000000\n",
       "JP_sales            0.000000\n",
       "Other_sales         0.000000\n",
       "Critic_Score       51.319174\n",
       "User_Score         40.089740\n",
       "Rating             40.478612\n",
       "dtype: float64"
      ]
     },
     "execution_count": 175,
     "metadata": {},
     "output_type": "execute_result"
    }
   ],
   "source": [
    "games.isnull().sum()/len(games)*100 # пропуски в процентном соотношении"
   ]
  },
  {
   "cell_type": "markdown",
   "metadata": {},
   "source": [
    "В столбцах Name, Year_of_Release, Genre, Critic_Score, User_Score, Rating обнаружено наличие пропусков. Наибольшее кол-во пропусков в процентом соотношении в столбцах Critic_Score, User_Score, Rating."
   ]
  },
  {
   "cell_type": "code",
   "execution_count": 176,
   "metadata": {},
   "outputs": [
    {
     "data": {
      "text/plain": [
       "0"
      ]
     },
     "execution_count": 176,
     "metadata": {},
     "output_type": "execute_result"
    }
   ],
   "source": [
    "games.duplicated().sum() "
   ]
  },
  {
   "cell_type": "code",
   "execution_count": 177,
   "metadata": {},
   "outputs": [
    {
     "data": {
      "text/html": [
       "<div>\n",
       "<style scoped>\n",
       "    .dataframe tbody tr th:only-of-type {\n",
       "        vertical-align: middle;\n",
       "    }\n",
       "\n",
       "    .dataframe tbody tr th {\n",
       "        vertical-align: top;\n",
       "    }\n",
       "\n",
       "    .dataframe thead th {\n",
       "        text-align: right;\n",
       "    }\n",
       "</style>\n",
       "<table border=\"1\" class=\"dataframe\">\n",
       "  <thead>\n",
       "    <tr style=\"text-align: right;\">\n",
       "      <th></th>\n",
       "      <th>Name</th>\n",
       "      <th>Platform</th>\n",
       "      <th>Year_of_Release</th>\n",
       "      <th>Genre</th>\n",
       "      <th>NA_sales</th>\n",
       "      <th>EU_sales</th>\n",
       "      <th>JP_sales</th>\n",
       "      <th>Other_sales</th>\n",
       "      <th>Critic_Score</th>\n",
       "      <th>User_Score</th>\n",
       "      <th>Rating</th>\n",
       "    </tr>\n",
       "  </thead>\n",
       "  <tbody>\n",
       "    <tr>\n",
       "      <th>14244</th>\n",
       "      <td>NaN</td>\n",
       "      <td>GEN</td>\n",
       "      <td>1993.0</td>\n",
       "      <td>NaN</td>\n",
       "      <td>0.0</td>\n",
       "      <td>0.00</td>\n",
       "      <td>0.03</td>\n",
       "      <td>0.0</td>\n",
       "      <td>NaN</td>\n",
       "      <td>NaN</td>\n",
       "      <td>NaN</td>\n",
       "    </tr>\n",
       "    <tr>\n",
       "      <th>16230</th>\n",
       "      <td>Madden NFL 13</td>\n",
       "      <td>PS3</td>\n",
       "      <td>2012.0</td>\n",
       "      <td>Sports</td>\n",
       "      <td>0.0</td>\n",
       "      <td>0.01</td>\n",
       "      <td>0.00</td>\n",
       "      <td>0.0</td>\n",
       "      <td>83.0</td>\n",
       "      <td>5.5</td>\n",
       "      <td>E</td>\n",
       "    </tr>\n",
       "  </tbody>\n",
       "</table>\n",
       "</div>"
      ],
      "text/plain": [
       "                Name Platform  Year_of_Release   Genre  NA_sales  EU_sales  \\\n",
       "14244            NaN      GEN           1993.0     NaN       0.0      0.00   \n",
       "16230  Madden NFL 13      PS3           2012.0  Sports       0.0      0.01   \n",
       "\n",
       "       JP_sales  Other_sales  Critic_Score User_Score Rating  \n",
       "14244      0.03          0.0           NaN        NaN    NaN  \n",
       "16230      0.00          0.0          83.0        5.5      E  "
      ]
     },
     "execution_count": 177,
     "metadata": {},
     "output_type": "execute_result"
    }
   ],
   "source": [
    "games[games.duplicated(['Name', 'Platform', 'Year_of_Release'])]"
   ]
  },
  {
   "cell_type": "markdown",
   "metadata": {},
   "source": [
    "Выявлены неявные дубликаты. Непонятна суть их происхождения, поэтому не будем применять к ним никаких действий."
   ]
  },
  {
   "cell_type": "markdown",
   "metadata": {},
   "source": [
    " Замените названия столбцов (приведите к нижнему регистру)"
   ]
  },
  {
   "cell_type": "code",
   "execution_count": 178,
   "metadata": {},
   "outputs": [],
   "source": [
    "games.columns = games.columns.str.lower()"
   ]
  },
  {
   "cell_type": "code",
   "execution_count": 179,
   "metadata": {},
   "outputs": [
    {
     "data": {
      "text/html": [
       "<div>\n",
       "<style scoped>\n",
       "    .dataframe tbody tr th:only-of-type {\n",
       "        vertical-align: middle;\n",
       "    }\n",
       "\n",
       "    .dataframe tbody tr th {\n",
       "        vertical-align: top;\n",
       "    }\n",
       "\n",
       "    .dataframe thead th {\n",
       "        text-align: right;\n",
       "    }\n",
       "</style>\n",
       "<table border=\"1\" class=\"dataframe\">\n",
       "  <thead>\n",
       "    <tr style=\"text-align: right;\">\n",
       "      <th></th>\n",
       "      <th>name</th>\n",
       "      <th>platform</th>\n",
       "      <th>year_of_release</th>\n",
       "      <th>genre</th>\n",
       "      <th>na_sales</th>\n",
       "      <th>eu_sales</th>\n",
       "      <th>jp_sales</th>\n",
       "      <th>other_sales</th>\n",
       "      <th>critic_score</th>\n",
       "      <th>user_score</th>\n",
       "      <th>rating</th>\n",
       "    </tr>\n",
       "  </thead>\n",
       "  <tbody>\n",
       "    <tr>\n",
       "      <th>0</th>\n",
       "      <td>Wii Sports</td>\n",
       "      <td>Wii</td>\n",
       "      <td>2006.0</td>\n",
       "      <td>Sports</td>\n",
       "      <td>41.36</td>\n",
       "      <td>28.96</td>\n",
       "      <td>3.77</td>\n",
       "      <td>8.45</td>\n",
       "      <td>76.0</td>\n",
       "      <td>8</td>\n",
       "      <td>E</td>\n",
       "    </tr>\n",
       "    <tr>\n",
       "      <th>1</th>\n",
       "      <td>Super Mario Bros.</td>\n",
       "      <td>NES</td>\n",
       "      <td>1985.0</td>\n",
       "      <td>Platform</td>\n",
       "      <td>29.08</td>\n",
       "      <td>3.58</td>\n",
       "      <td>6.81</td>\n",
       "      <td>0.77</td>\n",
       "      <td>NaN</td>\n",
       "      <td>NaN</td>\n",
       "      <td>NaN</td>\n",
       "    </tr>\n",
       "    <tr>\n",
       "      <th>2</th>\n",
       "      <td>Mario Kart Wii</td>\n",
       "      <td>Wii</td>\n",
       "      <td>2008.0</td>\n",
       "      <td>Racing</td>\n",
       "      <td>15.68</td>\n",
       "      <td>12.76</td>\n",
       "      <td>3.79</td>\n",
       "      <td>3.29</td>\n",
       "      <td>82.0</td>\n",
       "      <td>8.3</td>\n",
       "      <td>E</td>\n",
       "    </tr>\n",
       "    <tr>\n",
       "      <th>3</th>\n",
       "      <td>Wii Sports Resort</td>\n",
       "      <td>Wii</td>\n",
       "      <td>2009.0</td>\n",
       "      <td>Sports</td>\n",
       "      <td>15.61</td>\n",
       "      <td>10.93</td>\n",
       "      <td>3.28</td>\n",
       "      <td>2.95</td>\n",
       "      <td>80.0</td>\n",
       "      <td>8</td>\n",
       "      <td>E</td>\n",
       "    </tr>\n",
       "    <tr>\n",
       "      <th>4</th>\n",
       "      <td>Pokemon Red/Pokemon Blue</td>\n",
       "      <td>GB</td>\n",
       "      <td>1996.0</td>\n",
       "      <td>Role-Playing</td>\n",
       "      <td>11.27</td>\n",
       "      <td>8.89</td>\n",
       "      <td>10.22</td>\n",
       "      <td>1.00</td>\n",
       "      <td>NaN</td>\n",
       "      <td>NaN</td>\n",
       "      <td>NaN</td>\n",
       "    </tr>\n",
       "    <tr>\n",
       "      <th>...</th>\n",
       "      <td>...</td>\n",
       "      <td>...</td>\n",
       "      <td>...</td>\n",
       "      <td>...</td>\n",
       "      <td>...</td>\n",
       "      <td>...</td>\n",
       "      <td>...</td>\n",
       "      <td>...</td>\n",
       "      <td>...</td>\n",
       "      <td>...</td>\n",
       "      <td>...</td>\n",
       "    </tr>\n",
       "    <tr>\n",
       "      <th>16710</th>\n",
       "      <td>Samurai Warriors: Sanada Maru</td>\n",
       "      <td>PS3</td>\n",
       "      <td>2016.0</td>\n",
       "      <td>Action</td>\n",
       "      <td>0.00</td>\n",
       "      <td>0.00</td>\n",
       "      <td>0.01</td>\n",
       "      <td>0.00</td>\n",
       "      <td>NaN</td>\n",
       "      <td>NaN</td>\n",
       "      <td>NaN</td>\n",
       "    </tr>\n",
       "    <tr>\n",
       "      <th>16711</th>\n",
       "      <td>LMA Manager 2007</td>\n",
       "      <td>X360</td>\n",
       "      <td>2006.0</td>\n",
       "      <td>Sports</td>\n",
       "      <td>0.00</td>\n",
       "      <td>0.01</td>\n",
       "      <td>0.00</td>\n",
       "      <td>0.00</td>\n",
       "      <td>NaN</td>\n",
       "      <td>NaN</td>\n",
       "      <td>NaN</td>\n",
       "    </tr>\n",
       "    <tr>\n",
       "      <th>16712</th>\n",
       "      <td>Haitaka no Psychedelica</td>\n",
       "      <td>PSV</td>\n",
       "      <td>2016.0</td>\n",
       "      <td>Adventure</td>\n",
       "      <td>0.00</td>\n",
       "      <td>0.00</td>\n",
       "      <td>0.01</td>\n",
       "      <td>0.00</td>\n",
       "      <td>NaN</td>\n",
       "      <td>NaN</td>\n",
       "      <td>NaN</td>\n",
       "    </tr>\n",
       "    <tr>\n",
       "      <th>16713</th>\n",
       "      <td>Spirits &amp; Spells</td>\n",
       "      <td>GBA</td>\n",
       "      <td>2003.0</td>\n",
       "      <td>Platform</td>\n",
       "      <td>0.01</td>\n",
       "      <td>0.00</td>\n",
       "      <td>0.00</td>\n",
       "      <td>0.00</td>\n",
       "      <td>NaN</td>\n",
       "      <td>NaN</td>\n",
       "      <td>NaN</td>\n",
       "    </tr>\n",
       "    <tr>\n",
       "      <th>16714</th>\n",
       "      <td>Winning Post 8 2016</td>\n",
       "      <td>PSV</td>\n",
       "      <td>2016.0</td>\n",
       "      <td>Simulation</td>\n",
       "      <td>0.00</td>\n",
       "      <td>0.00</td>\n",
       "      <td>0.01</td>\n",
       "      <td>0.00</td>\n",
       "      <td>NaN</td>\n",
       "      <td>NaN</td>\n",
       "      <td>NaN</td>\n",
       "    </tr>\n",
       "  </tbody>\n",
       "</table>\n",
       "<p>16715 rows × 11 columns</p>\n",
       "</div>"
      ],
      "text/plain": [
       "                                name platform  year_of_release         genre  \\\n",
       "0                         Wii Sports      Wii           2006.0        Sports   \n",
       "1                  Super Mario Bros.      NES           1985.0      Platform   \n",
       "2                     Mario Kart Wii      Wii           2008.0        Racing   \n",
       "3                  Wii Sports Resort      Wii           2009.0        Sports   \n",
       "4           Pokemon Red/Pokemon Blue       GB           1996.0  Role-Playing   \n",
       "...                              ...      ...              ...           ...   \n",
       "16710  Samurai Warriors: Sanada Maru      PS3           2016.0        Action   \n",
       "16711               LMA Manager 2007     X360           2006.0        Sports   \n",
       "16712        Haitaka no Psychedelica      PSV           2016.0     Adventure   \n",
       "16713               Spirits & Spells      GBA           2003.0      Platform   \n",
       "16714            Winning Post 8 2016      PSV           2016.0    Simulation   \n",
       "\n",
       "       na_sales  eu_sales  jp_sales  other_sales  critic_score user_score  \\\n",
       "0         41.36     28.96      3.77         8.45          76.0          8   \n",
       "1         29.08      3.58      6.81         0.77           NaN        NaN   \n",
       "2         15.68     12.76      3.79         3.29          82.0        8.3   \n",
       "3         15.61     10.93      3.28         2.95          80.0          8   \n",
       "4         11.27      8.89     10.22         1.00           NaN        NaN   \n",
       "...         ...       ...       ...          ...           ...        ...   \n",
       "16710      0.00      0.00      0.01         0.00           NaN        NaN   \n",
       "16711      0.00      0.01      0.00         0.00           NaN        NaN   \n",
       "16712      0.00      0.00      0.01         0.00           NaN        NaN   \n",
       "16713      0.01      0.00      0.00         0.00           NaN        NaN   \n",
       "16714      0.00      0.00      0.01         0.00           NaN        NaN   \n",
       "\n",
       "      rating  \n",
       "0          E  \n",
       "1        NaN  \n",
       "2          E  \n",
       "3          E  \n",
       "4        NaN  \n",
       "...      ...  \n",
       "16710    NaN  \n",
       "16711    NaN  \n",
       "16712    NaN  \n",
       "16713    NaN  \n",
       "16714    NaN  \n",
       "\n",
       "[16715 rows x 11 columns]"
      ]
     },
     "execution_count": 179,
     "metadata": {},
     "output_type": "execute_result"
    }
   ],
   "source": [
    "games #проверка"
   ]
  },
  {
   "cell_type": "markdown",
   "metadata": {},
   "source": [
    "#### Преобразуйте данные в нужные типы. Опишите, в каких столбцах заменили тип данных и почему"
   ]
  },
  {
   "cell_type": "code",
   "execution_count": 180,
   "metadata": {},
   "outputs": [
    {
     "data": {
      "text/plain": [
       "array([2006., 1985., 2008., 2009., 1996., 1989., 1984., 2005., 1999.,\n",
       "       2007., 2010., 2013., 2004., 1990., 1988., 2002., 2001., 2011.,\n",
       "       1998., 2015., 2012., 2014., 1992., 1997., 1993., 1994., 1982.,\n",
       "       2016., 2003., 1986., 2000.,   nan, 1995., 1991., 1981., 1987.,\n",
       "       1980., 1983.])"
      ]
     },
     "execution_count": 180,
     "metadata": {},
     "output_type": "execute_result"
    }
   ],
   "source": [
    "#столбцы с не тем типом данных Year_of_Release, Critic_Score, User_Score.\n",
    "games['year_of_release'].unique()"
   ]
  },
  {
   "cell_type": "markdown",
   "metadata": {},
   "source": [
    "Имеются пропуски со значением nan, необходимо от него избавиться и привести значения по годам к целочисленным значениям."
   ]
  },
  {
   "cell_type": "code",
   "execution_count": 181,
   "metadata": {},
   "outputs": [
    {
     "name": "stderr",
     "output_type": "stream",
     "text": [
      "/tmp/ipykernel_350/2939243565.py:2: SettingWithCopyWarning: \n",
      "A value is trying to be set on a copy of a slice from a DataFrame.\n",
      "Try using .loc[row_indexer,col_indexer] = value instead\n",
      "\n",
      "See the caveats in the documentation: https://pandas.pydata.org/pandas-docs/stable/user_guide/indexing.html#returning-a-view-versus-a-copy\n",
      "  games['year_of_release']=games['year_of_release'].astype(int) #исправим тип данных на целочисленный\n"
     ]
    }
   ],
   "source": [
    "games = games.dropna(subset=['year_of_release']) #удалим пропуски со значение nan\n",
    "games['year_of_release']=games['year_of_release'].astype(int) #исправим тип данных на целочисленный"
   ]
  },
  {
   "cell_type": "code",
   "execution_count": 182,
   "metadata": {},
   "outputs": [
    {
     "data": {
      "text/plain": [
       "array([2006, 1985, 2008, 2009, 1996, 1989, 1984, 2005, 1999, 2007, 2010,\n",
       "       2013, 2004, 1990, 1988, 2002, 2001, 2011, 1998, 2015, 2012, 2014,\n",
       "       1992, 1997, 1993, 1994, 1982, 2016, 2003, 1986, 2000, 1995, 1991,\n",
       "       1981, 1987, 1980, 1983])"
      ]
     },
     "execution_count": 182,
     "metadata": {},
     "output_type": "execute_result"
    }
   ],
   "source": [
    "games['year_of_release'].unique() #проверим изменения в столбце"
   ]
  },
  {
   "cell_type": "code",
   "execution_count": 183,
   "metadata": {},
   "outputs": [
    {
     "data": {
      "text/plain": [
       "array(['8', nan, '8.3', '8.5', '6.6', '8.4', '8.6', '7.7', '6.3', '7.4',\n",
       "       '8.2', '9', '7.9', '8.1', '8.7', '7.1', '3.4', '5.3', '4.8', '3.2',\n",
       "       '8.9', '6.4', '7.8', '7.5', '2.6', '7.2', '9.2', '7', '7.3', '4.3',\n",
       "       '7.6', '5.7', '5', '9.1', '6.5', 'tbd', '8.8', '6.9', '9.4', '6.8',\n",
       "       '6.1', '6.7', '5.4', '4', '4.9', '4.5', '9.3', '6.2', '4.2', '6',\n",
       "       '3.7', '4.1', '5.8', '5.6', '5.5', '4.4', '4.6', '5.9', '3.9',\n",
       "       '3.1', '2.9', '5.2', '3.3', '4.7', '5.1', '3.5', '2.5', '1.9', '3',\n",
       "       '2.7', '2.2', '2', '9.5', '2.1', '3.6', '2.8', '1.8', '3.8', '0',\n",
       "       '1.6', '9.6', '2.4', '1.7', '1.1', '0.3', '1.5', '0.7', '1.2',\n",
       "       '2.3', '0.5', '1.3', '0.2', '0.6', '1.4', '0.9', '1', '9.7'],\n",
       "      dtype=object)"
      ]
     },
     "execution_count": 183,
     "metadata": {},
     "output_type": "execute_result"
    }
   ],
   "source": [
    "games['user_score'].unique() #проверим значения в столбце user_score"
   ]
  },
  {
   "cell_type": "markdown",
   "metadata": {},
   "source": [
    "Есть значение \"tbd\" и такое значение должно иметь значение object. TBD (to be determined = будет определено). по факту, данное значение имеет тоже значение пропуска. Следовательно nan и tbd равнозначны."
   ]
  },
  {
   "cell_type": "code",
   "execution_count": 184,
   "metadata": {},
   "outputs": [
    {
     "name": "stderr",
     "output_type": "stream",
     "text": [
      "/tmp/ipykernel_350/3549351255.py:1: SettingWithCopyWarning: \n",
      "A value is trying to be set on a copy of a slice from a DataFrame.\n",
      "Try using .loc[row_indexer,col_indexer] = value instead\n",
      "\n",
      "See the caveats in the documentation: https://pandas.pydata.org/pandas-docs/stable/user_guide/indexing.html#returning-a-view-versus-a-copy\n",
      "  games['user_score']=games['user_score'].replace('tbd', -1) #заменим на -1 значение tbd\n",
      "/tmp/ipykernel_350/3549351255.py:2: SettingWithCopyWarning: \n",
      "A value is trying to be set on a copy of a slice from a DataFrame.\n",
      "Try using .loc[row_indexer,col_indexer] = value instead\n",
      "\n",
      "See the caveats in the documentation: https://pandas.pydata.org/pandas-docs/stable/user_guide/indexing.html#returning-a-view-versus-a-copy\n",
      "  games['user_score']=games['user_score'].fillna(-1) # заменим пропуски на -1\n",
      "/tmp/ipykernel_350/3549351255.py:3: SettingWithCopyWarning: \n",
      "A value is trying to be set on a copy of a slice from a DataFrame.\n",
      "Try using .loc[row_indexer,col_indexer] = value instead\n",
      "\n",
      "See the caveats in the documentation: https://pandas.pydata.org/pandas-docs/stable/user_guide/indexing.html#returning-a-view-versus-a-copy\n",
      "  games['user_score']=games['user_score'].astype('float') # приведем к типу данных float\n"
     ]
    }
   ],
   "source": [
    "games['user_score']=games['user_score'].replace('tbd', -1) #заменим на -1 значение tbd\n",
    "games['user_score']=games['user_score'].fillna(-1) # заменим пропуски на -1\n",
    "games['user_score']=games['user_score'].astype('float') # приведем к типу данных float"
   ]
  },
  {
   "cell_type": "code",
   "execution_count": 185,
   "metadata": {},
   "outputs": [
    {
     "data": {
      "text/plain": [
       "array([76., nan, 82., 80., 89., 58., 87., 91., 61., 97., 95., 77., 88.,\n",
       "       83., 94., 93., 85., 86., 98., 96., 90., 84., 73., 74., 78., 92.,\n",
       "       71., 72., 68., 62., 49., 67., 81., 66., 56., 79., 70., 59., 64.,\n",
       "       75., 60., 63., 69., 50., 25., 42., 44., 55., 48., 57., 29., 47.,\n",
       "       65., 54., 20., 53., 37., 38., 33., 52., 30., 32., 43., 45., 51.,\n",
       "       40., 46., 39., 34., 41., 36., 31., 27., 35., 26., 19., 28., 23.,\n",
       "       24., 21., 17., 13.])"
      ]
     },
     "execution_count": 185,
     "metadata": {},
     "output_type": "execute_result"
    }
   ],
   "source": [
    "games['critic_score'].unique() #проверка значений"
   ]
  },
  {
   "cell_type": "code",
   "execution_count": 186,
   "metadata": {},
   "outputs": [
    {
     "name": "stderr",
     "output_type": "stream",
     "text": [
      "/tmp/ipykernel_350/253634885.py:1: SettingWithCopyWarning: \n",
      "A value is trying to be set on a copy of a slice from a DataFrame.\n",
      "Try using .loc[row_indexer,col_indexer] = value instead\n",
      "\n",
      "See the caveats in the documentation: https://pandas.pydata.org/pandas-docs/stable/user_guide/indexing.html#returning-a-view-versus-a-copy\n",
      "  games['critic_score']=games['critic_score'].fillna(-1) #изменим пропуски со значение nan на ноль\n",
      "/tmp/ipykernel_350/253634885.py:2: SettingWithCopyWarning: \n",
      "A value is trying to be set on a copy of a slice from a DataFrame.\n",
      "Try using .loc[row_indexer,col_indexer] = value instead\n",
      "\n",
      "See the caveats in the documentation: https://pandas.pydata.org/pandas-docs/stable/user_guide/indexing.html#returning-a-view-versus-a-copy\n",
      "  games['critic_score']=games['critic_score'].astype(int) #исправим тип данных на целочисленный\n"
     ]
    }
   ],
   "source": [
    "games['critic_score']=games['critic_score'].fillna(-1) #изменим пропуски со значение nan на ноль\n",
    "games['critic_score']=games['critic_score'].astype(int) #исправим тип данных на целочисленный\n"
   ]
  },
  {
   "cell_type": "code",
   "execution_count": 187,
   "metadata": {},
   "outputs": [
    {
     "data": {
      "text/plain": [
       "array([76, -1, 82, 80, 89, 58, 87, 91, 61, 97, 95, 77, 88, 83, 94, 93, 85,\n",
       "       86, 98, 96, 90, 84, 73, 74, 78, 92, 71, 72, 68, 62, 49, 67, 81, 66,\n",
       "       56, 79, 70, 59, 64, 75, 60, 63, 69, 50, 25, 42, 44, 55, 48, 57, 29,\n",
       "       47, 65, 54, 20, 53, 37, 38, 33, 52, 30, 32, 43, 45, 51, 40, 46, 39,\n",
       "       34, 41, 36, 31, 27, 35, 26, 19, 28, 23, 24, 21, 17, 13])"
      ]
     },
     "execution_count": 187,
     "metadata": {},
     "output_type": "execute_result"
    }
   ],
   "source": [
    "games['critic_score'].unique() #проверим значения в столбце"
   ]
  },
  {
   "cell_type": "code",
   "execution_count": 188,
   "metadata": {},
   "outputs": [
    {
     "data": {
      "text/plain": [
       "name                  2\n",
       "platform              0\n",
       "year_of_release       0\n",
       "genre                 2\n",
       "na_sales              0\n",
       "eu_sales              0\n",
       "jp_sales              0\n",
       "other_sales           0\n",
       "critic_score          0\n",
       "user_score            0\n",
       "rating             6678\n",
       "dtype: int64"
      ]
     },
     "execution_count": 188,
     "metadata": {},
     "output_type": "execute_result"
    }
   ],
   "source": [
    "games.isnull().sum() "
   ]
  },
  {
   "cell_type": "markdown",
   "metadata": {},
   "source": [
    "Произвели замену пропусков в столбцах Year_of_Release, Critic_Score, User_Score и привели к другому типу данных, так как в ходе исследования нам понадобятся их значения.\n",
    "\n",
    "Пропуски в столбце Rating — рейтинг от организации ESRB, определяет рейтинг компьютерных игр и присваивает им подходящую возрастную категорию. Не будем проводить замену пропусков, так как нет корректной замены для этого случая. \n",
    "\n",
    "Есть пропуск в столбцах name и genre, но их очень мало, скорее всего они взаимосвязаны, некорректно будет их исправлять."
   ]
  },
  {
   "cell_type": "markdown",
   "metadata": {},
   "source": [
    "Посчитайте суммарные продажи во всех регионах и запишите их в отдельный столбец."
   ]
  },
  {
   "cell_type": "code",
   "execution_count": 189,
   "metadata": {},
   "outputs": [
    {
     "name": "stderr",
     "output_type": "stream",
     "text": [
      "/tmp/ipykernel_350/979042203.py:1: SettingWithCopyWarning: \n",
      "A value is trying to be set on a copy of a slice from a DataFrame.\n",
      "Try using .loc[row_indexer,col_indexer] = value instead\n",
      "\n",
      "See the caveats in the documentation: https://pandas.pydata.org/pandas-docs/stable/user_guide/indexing.html#returning-a-view-versus-a-copy\n",
      "  games['sales_total']=games['na_sales']+games['eu_sales']+games['jp_sales']+games['other_sales']\n"
     ]
    }
   ],
   "source": [
    "games['sales_total']=games['na_sales']+games['eu_sales']+games['jp_sales']+games['other_sales']\n"
   ]
  },
  {
   "cell_type": "code",
   "execution_count": 190,
   "metadata": {},
   "outputs": [
    {
     "data": {
      "text/html": [
       "<div>\n",
       "<style scoped>\n",
       "    .dataframe tbody tr th:only-of-type {\n",
       "        vertical-align: middle;\n",
       "    }\n",
       "\n",
       "    .dataframe tbody tr th {\n",
       "        vertical-align: top;\n",
       "    }\n",
       "\n",
       "    .dataframe thead th {\n",
       "        text-align: right;\n",
       "    }\n",
       "</style>\n",
       "<table border=\"1\" class=\"dataframe\">\n",
       "  <thead>\n",
       "    <tr style=\"text-align: right;\">\n",
       "      <th></th>\n",
       "      <th>name</th>\n",
       "      <th>platform</th>\n",
       "      <th>year_of_release</th>\n",
       "      <th>genre</th>\n",
       "      <th>na_sales</th>\n",
       "      <th>eu_sales</th>\n",
       "      <th>jp_sales</th>\n",
       "      <th>other_sales</th>\n",
       "      <th>critic_score</th>\n",
       "      <th>user_score</th>\n",
       "      <th>rating</th>\n",
       "      <th>sales_total</th>\n",
       "    </tr>\n",
       "  </thead>\n",
       "  <tbody>\n",
       "    <tr>\n",
       "      <th>0</th>\n",
       "      <td>Wii Sports</td>\n",
       "      <td>Wii</td>\n",
       "      <td>2006</td>\n",
       "      <td>Sports</td>\n",
       "      <td>41.36</td>\n",
       "      <td>28.96</td>\n",
       "      <td>3.77</td>\n",
       "      <td>8.45</td>\n",
       "      <td>76</td>\n",
       "      <td>8.0</td>\n",
       "      <td>E</td>\n",
       "      <td>82.54</td>\n",
       "    </tr>\n",
       "    <tr>\n",
       "      <th>1</th>\n",
       "      <td>Super Mario Bros.</td>\n",
       "      <td>NES</td>\n",
       "      <td>1985</td>\n",
       "      <td>Platform</td>\n",
       "      <td>29.08</td>\n",
       "      <td>3.58</td>\n",
       "      <td>6.81</td>\n",
       "      <td>0.77</td>\n",
       "      <td>-1</td>\n",
       "      <td>-1.0</td>\n",
       "      <td>NaN</td>\n",
       "      <td>40.24</td>\n",
       "    </tr>\n",
       "    <tr>\n",
       "      <th>2</th>\n",
       "      <td>Mario Kart Wii</td>\n",
       "      <td>Wii</td>\n",
       "      <td>2008</td>\n",
       "      <td>Racing</td>\n",
       "      <td>15.68</td>\n",
       "      <td>12.76</td>\n",
       "      <td>3.79</td>\n",
       "      <td>3.29</td>\n",
       "      <td>82</td>\n",
       "      <td>8.3</td>\n",
       "      <td>E</td>\n",
       "      <td>35.52</td>\n",
       "    </tr>\n",
       "    <tr>\n",
       "      <th>3</th>\n",
       "      <td>Wii Sports Resort</td>\n",
       "      <td>Wii</td>\n",
       "      <td>2009</td>\n",
       "      <td>Sports</td>\n",
       "      <td>15.61</td>\n",
       "      <td>10.93</td>\n",
       "      <td>3.28</td>\n",
       "      <td>2.95</td>\n",
       "      <td>80</td>\n",
       "      <td>8.0</td>\n",
       "      <td>E</td>\n",
       "      <td>32.77</td>\n",
       "    </tr>\n",
       "    <tr>\n",
       "      <th>4</th>\n",
       "      <td>Pokemon Red/Pokemon Blue</td>\n",
       "      <td>GB</td>\n",
       "      <td>1996</td>\n",
       "      <td>Role-Playing</td>\n",
       "      <td>11.27</td>\n",
       "      <td>8.89</td>\n",
       "      <td>10.22</td>\n",
       "      <td>1.00</td>\n",
       "      <td>-1</td>\n",
       "      <td>-1.0</td>\n",
       "      <td>NaN</td>\n",
       "      <td>31.38</td>\n",
       "    </tr>\n",
       "    <tr>\n",
       "      <th>...</th>\n",
       "      <td>...</td>\n",
       "      <td>...</td>\n",
       "      <td>...</td>\n",
       "      <td>...</td>\n",
       "      <td>...</td>\n",
       "      <td>...</td>\n",
       "      <td>...</td>\n",
       "      <td>...</td>\n",
       "      <td>...</td>\n",
       "      <td>...</td>\n",
       "      <td>...</td>\n",
       "      <td>...</td>\n",
       "    </tr>\n",
       "    <tr>\n",
       "      <th>16710</th>\n",
       "      <td>Samurai Warriors: Sanada Maru</td>\n",
       "      <td>PS3</td>\n",
       "      <td>2016</td>\n",
       "      <td>Action</td>\n",
       "      <td>0.00</td>\n",
       "      <td>0.00</td>\n",
       "      <td>0.01</td>\n",
       "      <td>0.00</td>\n",
       "      <td>-1</td>\n",
       "      <td>-1.0</td>\n",
       "      <td>NaN</td>\n",
       "      <td>0.01</td>\n",
       "    </tr>\n",
       "    <tr>\n",
       "      <th>16711</th>\n",
       "      <td>LMA Manager 2007</td>\n",
       "      <td>X360</td>\n",
       "      <td>2006</td>\n",
       "      <td>Sports</td>\n",
       "      <td>0.00</td>\n",
       "      <td>0.01</td>\n",
       "      <td>0.00</td>\n",
       "      <td>0.00</td>\n",
       "      <td>-1</td>\n",
       "      <td>-1.0</td>\n",
       "      <td>NaN</td>\n",
       "      <td>0.01</td>\n",
       "    </tr>\n",
       "    <tr>\n",
       "      <th>16712</th>\n",
       "      <td>Haitaka no Psychedelica</td>\n",
       "      <td>PSV</td>\n",
       "      <td>2016</td>\n",
       "      <td>Adventure</td>\n",
       "      <td>0.00</td>\n",
       "      <td>0.00</td>\n",
       "      <td>0.01</td>\n",
       "      <td>0.00</td>\n",
       "      <td>-1</td>\n",
       "      <td>-1.0</td>\n",
       "      <td>NaN</td>\n",
       "      <td>0.01</td>\n",
       "    </tr>\n",
       "    <tr>\n",
       "      <th>16713</th>\n",
       "      <td>Spirits &amp; Spells</td>\n",
       "      <td>GBA</td>\n",
       "      <td>2003</td>\n",
       "      <td>Platform</td>\n",
       "      <td>0.01</td>\n",
       "      <td>0.00</td>\n",
       "      <td>0.00</td>\n",
       "      <td>0.00</td>\n",
       "      <td>-1</td>\n",
       "      <td>-1.0</td>\n",
       "      <td>NaN</td>\n",
       "      <td>0.01</td>\n",
       "    </tr>\n",
       "    <tr>\n",
       "      <th>16714</th>\n",
       "      <td>Winning Post 8 2016</td>\n",
       "      <td>PSV</td>\n",
       "      <td>2016</td>\n",
       "      <td>Simulation</td>\n",
       "      <td>0.00</td>\n",
       "      <td>0.00</td>\n",
       "      <td>0.01</td>\n",
       "      <td>0.00</td>\n",
       "      <td>-1</td>\n",
       "      <td>-1.0</td>\n",
       "      <td>NaN</td>\n",
       "      <td>0.01</td>\n",
       "    </tr>\n",
       "  </tbody>\n",
       "</table>\n",
       "<p>16446 rows × 12 columns</p>\n",
       "</div>"
      ],
      "text/plain": [
       "                                name platform  year_of_release         genre  \\\n",
       "0                         Wii Sports      Wii             2006        Sports   \n",
       "1                  Super Mario Bros.      NES             1985      Platform   \n",
       "2                     Mario Kart Wii      Wii             2008        Racing   \n",
       "3                  Wii Sports Resort      Wii             2009        Sports   \n",
       "4           Pokemon Red/Pokemon Blue       GB             1996  Role-Playing   \n",
       "...                              ...      ...              ...           ...   \n",
       "16710  Samurai Warriors: Sanada Maru      PS3             2016        Action   \n",
       "16711               LMA Manager 2007     X360             2006        Sports   \n",
       "16712        Haitaka no Psychedelica      PSV             2016     Adventure   \n",
       "16713               Spirits & Spells      GBA             2003      Platform   \n",
       "16714            Winning Post 8 2016      PSV             2016    Simulation   \n",
       "\n",
       "       na_sales  eu_sales  jp_sales  other_sales  critic_score  user_score  \\\n",
       "0         41.36     28.96      3.77         8.45            76         8.0   \n",
       "1         29.08      3.58      6.81         0.77            -1        -1.0   \n",
       "2         15.68     12.76      3.79         3.29            82         8.3   \n",
       "3         15.61     10.93      3.28         2.95            80         8.0   \n",
       "4         11.27      8.89     10.22         1.00            -1        -1.0   \n",
       "...         ...       ...       ...          ...           ...         ...   \n",
       "16710      0.00      0.00      0.01         0.00            -1        -1.0   \n",
       "16711      0.00      0.01      0.00         0.00            -1        -1.0   \n",
       "16712      0.00      0.00      0.01         0.00            -1        -1.0   \n",
       "16713      0.01      0.00      0.00         0.00            -1        -1.0   \n",
       "16714      0.00      0.00      0.01         0.00            -1        -1.0   \n",
       "\n",
       "      rating  sales_total  \n",
       "0          E        82.54  \n",
       "1        NaN        40.24  \n",
       "2          E        35.52  \n",
       "3          E        32.77  \n",
       "4        NaN        31.38  \n",
       "...      ...          ...  \n",
       "16710    NaN         0.01  \n",
       "16711    NaN         0.01  \n",
       "16712    NaN         0.01  \n",
       "16713    NaN         0.01  \n",
       "16714    NaN         0.01  \n",
       "\n",
       "[16446 rows x 12 columns]"
      ]
     },
     "execution_count": 190,
     "metadata": {},
     "output_type": "execute_result"
    }
   ],
   "source": [
    "games\n"
   ]
  },
  {
   "cell_type": "code",
   "execution_count": 192,
   "metadata": {},
   "outputs": [],
   "source": [
    "#удаляем пропуски в столбцах name и genre\n",
    "games = games.dropna(subset=['name'])\n",
    "games = games.dropna(subset=['genre'])"
   ]
  },
  {
   "cell_type": "code",
   "execution_count": 193,
   "metadata": {},
   "outputs": [
    {
     "data": {
      "text/plain": [
       "array(['E', nan, 'M', 'T', 'E10+', 'K-A', 'AO', 'EC', 'RP'], dtype=object)"
      ]
     },
     "execution_count": 193,
     "metadata": {},
     "output_type": "execute_result"
    }
   ],
   "source": [
    "games['rating'].unique()"
   ]
  },
  {
   "cell_type": "code",
   "execution_count": 194,
   "metadata": {},
   "outputs": [],
   "source": [
    "games['rating']=games['rating'].fillna('undefined')"
   ]
  },
  {
   "cell_type": "code",
   "execution_count": 195,
   "metadata": {},
   "outputs": [
    {
     "data": {
      "text/plain": [
       "name               0\n",
       "platform           0\n",
       "year_of_release    0\n",
       "genre              0\n",
       "na_sales           0\n",
       "eu_sales           0\n",
       "jp_sales           0\n",
       "other_sales        0\n",
       "critic_score       0\n",
       "user_score         0\n",
       "rating             0\n",
       "sales_total        0\n",
       "dtype: int64"
      ]
     },
     "execution_count": 195,
     "metadata": {},
     "output_type": "execute_result"
    }
   ],
   "source": [
    "games.isnull().sum() "
   ]
  },
  {
   "cell_type": "markdown",
   "metadata": {},
   "source": [
    "Рейтинг ESRB - это возрастной рейтинг помогает потребителю решить, подходит ли игра для предполагаемого пользователя, и гарантируют, что дети не увидят неприемлемый контент. Сама организация основана с 1994 года. Пропуски в таблице могли возникнуть в играх выпущенных до 1994г или в контексте того, что рейтинг неустановлен. \n",
    "\n",
    "Заменим пропуски в столбце рейтинга на значение 'undefined'."
   ]
  },
  {
   "cell_type": "markdown",
   "metadata": {},
   "source": [
    "critic_score и user_score могли получить пропуски либо из-за отсутсвия платформ с выставлением оценки от пользователя и критка во время которое блы выпущена игра, либо игру могли просто не оценивать\n",
    "\n",
    "Пропуски в столбцах name, genre, year_of_realis могли возникнуть по причине отсутствия названия, жанра или неопределенного года выпуска."
   ]
  },
  {
   "cell_type": "markdown",
   "metadata": {},
   "source": [
    " По итогу этапа предообработки данных выполнили замену пропусков в столбцах Name, Year_of_Release, Genre, Critic_Score, User_Score, Rating. Наибольшее кол-во пропусков в процентом соотношении в столбцах Critic_Score, User_Score, Rating.\n",
    "\n",
    "В столбцах Year_of_Release, Critic_Score, User_Score значения привели к другому типу данных, так как в ходе исследования нам понадобятся их значения."
   ]
  },
  {
   "cell_type": "markdown",
   "metadata": {},
   "source": [
    "#### Проведите исследовательский анализ данных"
   ]
  },
  {
   "cell_type": "markdown",
   "metadata": {},
   "source": [
    "Посмотрите, сколько игр выпускалось в разные годы. Важны ли данные за все периоды?"
   ]
  },
  {
   "cell_type": "code",
   "execution_count": 196,
   "metadata": {},
   "outputs": [
    {
     "data": {
      "image/png": "[encoded data removed]",
      "text/plain": [
       "<Figure size 720x360 with 1 Axes>"
      ]
     },
     "metadata": {
      "needs_background": "light"
     },
     "output_type": "display_data"
    }
   ],
   "source": [
    "game_count = games.pivot_table(index = 'year_of_release', values = 'name', aggfunc=['count'])\n",
    "game_count.columns = ['count']\n",
    "game_count.plot(kind='bar', color='#008080', figsize=(10,5))\n",
    "plt.xlabel('Год выпуска')\n",
    "plt.ylabel('Количество игр')\n",
    "plt.title('Количество выпущенных игр')\n",
    "plt.show()"
   ]
  },
  {
   "cell_type": "markdown",
   "metadata": {},
   "source": [
    "По графику видно, что игры до 1994 года практически не выпускались, по причине еще не развитости данного сигмента. Далее идет рост по кол-ву выпускаемых игр. Самый пик приходится с 2007-2011 года, потом идет резкий спад. Возможно из-за кризиса или развития технологий, которое привело к снижению интереса к игровым консолям."
   ]
  },
  {
   "cell_type": "markdown",
   "metadata": {},
   "source": [
    "Посмотрите, как менялись продажи по платформам. Выберите платформы с наибольшими суммарными продажами и постройте распределение по годам. За какой характерный срок появляются новые и исчезают старые платформы?"
   ]
  },
  {
   "cell_type": "code",
   "execution_count": 197,
   "metadata": {},
   "outputs": [
    {
     "data": {
      "image/png": "[encoded data removed]",
      "text/plain": [
       "<Figure size 720x360 with 1 Axes>"
      ]
     },
     "metadata": {
      "needs_background": "light"
     },
     "output_type": "display_data"
    }
   ],
   "source": [
    "platforms_sale = games.pivot_table(index = 'platform', values = 'sales_total', aggfunc=['sum'])\n",
    "platforms_sale.columns = ['sum']\n",
    "platforms_sale=platforms_sale.sort_values('sum', ascending = False)\n",
    "platforms_sale.plot(kind='bar', color='#008080', figsize=(10,5))\n",
    "plt.xlabel('Игровая платформа')\n",
    "plt.ylabel('Сумма продаж')\n",
    "plt.title('Суммарные продажи платформ')\n",
    "plt.show()"
   ]
  },
  {
   "cell_type": "markdown",
   "metadata": {},
   "source": [
    "По графику видно, что самая популярная игровая платформа это PS2, потом идут Xbox360, PS3, Wii, DS, PS. "
   ]
  },
  {
   "cell_type": "code",
   "execution_count": 198,
   "metadata": {},
   "outputs": [
    {
     "data": {
      "image/png": "[encoded data removed]",
      "text/plain": [
       "<Figure size 720x360 with 1 Axes>"
      ]
     },
     "metadata": {
      "needs_background": "light"
     },
     "output_type": "display_data"
    }
   ],
   "source": [
    "#построим график Суммарные продажи по годам платформы PS2\n",
    "games.query('platform==\"PS2\"').pivot_table(index = 'year_of_release', values = 'sales_total', aggfunc=['sum']).plot(kind='bar', color='#008080', figsize=(10,5))\n",
    "plt.xlabel('Год')\n",
    "plt.ylabel('Сумма продаж')\n",
    "plt.title('Суммарные продажи по годам платформы PS2')\n",
    "plt.show()"
   ]
  },
  {
   "cell_type": "code",
   "execution_count": 199,
   "metadata": {},
   "outputs": [
    {
     "data": {
      "image/png": "[encoded data removed]",
      "text/plain": [
       "<Figure size 720x360 with 1 Axes>"
      ]
     },
     "metadata": {
      "needs_background": "light"
     },
     "output_type": "display_data"
    }
   ],
   "source": [
    "#построим график Суммарные продажи по годам платформы X360\n",
    "games.query('platform==\"X360\"').pivot_table(index = 'year_of_release', values = 'sales_total', aggfunc=['sum']).plot(kind='bar', color='#008080', figsize=(10,5))\n",
    "plt.xlabel('Год')\n",
    "plt.ylabel('Сумма продаж')\n",
    "plt.title('Суммарные продажи по годам платформы X360')\n",
    "plt.show()"
   ]
  },
  {
   "cell_type": "code",
   "execution_count": 200,
   "metadata": {},
   "outputs": [
    {
     "data": {
      "image/png": "[encoded data removed]",
      "text/plain": [
       "<Figure size 720x360 with 1 Axes>"
      ]
     },
     "metadata": {
      "needs_background": "light"
     },
     "output_type": "display_data"
    }
   ],
   "source": [
    "#построим график Суммарные продажи по годам платформы PS3\n",
    "games.query('platform==\"PS3\"').pivot_table(index = 'year_of_release', values = 'sales_total', aggfunc=['sum']).plot(kind='bar', color='#008080', figsize=(10,5))\n",
    "plt.xlabel('Год')\n",
    "plt.ylabel('Сумма продаж')\n",
    "plt.title('Суммарные продажи по годам платформы PS3')\n",
    "plt.show()"
   ]
  },
  {
   "cell_type": "code",
   "execution_count": 201,
   "metadata": {},
   "outputs": [
    {
     "data": {
      "image/png": "[encoded data removed]",
      "text/plain": [
       "<Figure size 720x360 with 1 Axes>"
      ]
     },
     "metadata": {
      "needs_background": "light"
     },
     "output_type": "display_data"
    }
   ],
   "source": [
    "#построим график Суммарные продажи по годам платформы Wii\n",
    "games.query('platform==\"Wii\"').pivot_table(index = 'year_of_release', values = 'sales_total', aggfunc=['sum']).plot(kind='bar', color='#008080', figsize=(10,5))\n",
    "plt.xlabel('Год')\n",
    "plt.ylabel('Сумма продаж')\n",
    "plt.title('Суммарные продажи по годам платформы Wii')\n",
    "plt.show()"
   ]
  },
  {
   "cell_type": "markdown",
   "metadata": {},
   "source": [
    "По графикам видно, что средняя продолжительность консоли 10-11 лет. В начале всегда идет рост по продажам и потом сильно уменьшается."
   ]
  },
  {
   "cell_type": "markdown",
   "metadata": {},
   "source": [
    "Возьмите данные за соответствующий актуальный период. Актуальный период определите самостоятельно в результате исследования предыдущих вопросов. Основной фактор — эти данные помогут построить прогноз на 2017 год."
   ]
  },
  {
   "cell_type": "markdown",
   "metadata": {},
   "source": [
    "Актуальный период считается последние 4 года, так как нам нужно выполнить прогноз на 2017 год, то актуальнй период получается с 2013-2016.\n"
   ]
  },
  {
   "cell_type": "code",
   "execution_count": 203,
   "metadata": {},
   "outputs": [
    {
     "data": {
      "image/png": "[encoded data removed]",
      "text/plain": [
       "<Figure size 936x576 with 1 Axes>"
      ]
     },
     "metadata": {
      "needs_background": "light"
     },
     "output_type": "display_data"
    }
   ],
   "source": [
    "df=games.query('year_of_release>=2013')\n",
    "plt.figure(figsize=(13, 8))\n",
    "sns.barplot(x='year_of_release', y='sales_total', hue='platform', data=df)\n",
    "plt.xlabel('Год')\n",
    "plt.ylabel('Сумма продаж')\n",
    "plt.title('Суммарные продажи по годам 2013-2016 игровых платформ')\n",
    "plt.show()"
   ]
  },
  {
   "cell_type": "markdown",
   "metadata": {},
   "source": [
    "В 2013 году были более высокие продажи, чем в последующих, рынок игровых консолей снизился. Самой популярной консулью является PS4."
   ]
  },
  {
   "cell_type": "code",
   "execution_count": 204,
   "metadata": {},
   "outputs": [
    {
     "data": {
      "image/png": "[encoded data removed]",
      "text/plain": [
       "<Figure size 1080x432 with 1 Axes>"
      ]
     },
     "metadata": {
      "needs_background": "light"
     },
     "output_type": "display_data"
    }
   ],
   "source": [
    "df[['sales_total', 'platform']].boxplot(column='sales_total', by='platform', figsize= (15, 6))\n",
    "plt.xlabel('Игровая платформа')\n",
    "plt.ylabel('Продажи')\n",
    "plt.title('график «ящик с усами» по глобальным продажам игр в разбивке по платформам')\n",
    "plt.ylim(0,2)\n",
    "plt.show()"
   ]
  },
  {
   "cell_type": "markdown",
   "metadata": {},
   "source": [
    "Максимальная прибыль у платформ PS4,  X360, Wii, XOne - в диапозоне от 1.5 до 1.75 млн\n",
    "Медиана по топовым платформам варьируется от 0,2 до 0,25 млн долларов прибыли за игру.\n",
    "Выделяется PSP - у него показатель сильно ниже. Медиана < 0,1 миллиона долларов, верхняя граница примерно 0,2 млн."
   ]
  },
  {
   "cell_type": "markdown",
   "metadata": {},
   "source": [
    "Посмотрите, как влияют на продажи внутри одной популярной платформы отзывы пользователей и критиков. Постройте диаграмму рассеяния и посчитайте корреляцию между отзывами и продажами. Сформулируйте выводы."
   ]
  },
  {
   "cell_type": "code",
   "execution_count": 206,
   "metadata": {},
   "outputs": [
    {
     "data": {
      "text/plain": [
       "2013"
      ]
     },
     "execution_count": 206,
     "metadata": {},
     "output_type": "execute_result"
    }
   ],
   "source": [
    "df.year_of_release.min()"
   ]
  },
  {
   "cell_type": "markdown",
   "metadata": {},
   "source": [
    "Посмотрите, как влияют на продажи отзывы пользователей и критиков внутри платформы PS4"
   ]
  },
  {
   "cell_type": "code",
   "execution_count": 207,
   "metadata": {},
   "outputs": [
    {
     "data": {
      "image/png": "[encoded data removed]",
      "text/plain": [
       "<Figure size 360x360 with 1 Axes>"
      ]
     },
     "metadata": {
      "needs_background": "light"
     },
     "output_type": "display_data"
    },
    {
     "data": {
      "text/plain": [
       "0.41"
      ]
     },
     "execution_count": 207,
     "metadata": {},
     "output_type": "execute_result"
    }
   ],
   "source": [
    "#по отзывам от критиков\n",
    "games_ps4 = df[(df['platform'] == 'PS4') & (df['critic_score'] > -1)].copy()\n",
    "#games_ps4 = games_ps4.pivot_table(index = 'critic_score', values = 'sales_total').plot(alpha=0.5, grid=True, style='o', figsize=(5, 5))\n",
    "games_ps4.plot(kind='scatter', x='critic_score', y='sales_total',alpha=0.5, grid=True, style='o', figsize=(5, 5))\n",
    "plt.xlabel('Оценка критиков')\n",
    "plt.ylabel('Сумма продаж')\n",
    "plt.title('Диаграмма рассеяния между отзывами критиков и продажами')\n",
    "plt.show()\n",
    "games_ps4['critic_score'].corr(games_ps4['sales_total']).round(2)"
   ]
  },
  {
   "cell_type": "code",
   "execution_count": 209,
   "metadata": {},
   "outputs": [
    {
     "data": {
      "image/png": "[encoded data removed]",
      "text/plain": [
       "<Figure size 360x360 with 1 Axes>"
      ]
     },
     "metadata": {
      "needs_background": "light"
     },
     "output_type": "display_data"
    },
    {
     "data": {
      "text/plain": [
       "-0.03"
      ]
     },
     "execution_count": 209,
     "metadata": {},
     "output_type": "execute_result"
    }
   ],
   "source": [
    "#по отзывам от пользователей\n",
    "games_ps4_2= df[(df['platform'] == 'PS4') & (df['user_score'] > -1)].copy()\n",
    "games_ps4_2.plot(kind='scatter', x='user_score', y='sales_total',alpha=0.5, grid=True, style='o', figsize=(5, 5))\n",
    "plt.xlabel('Оценка пользователей')\n",
    "plt.ylabel('Сумма продаж')\n",
    "plt.title('Диаграмма рассеяния между отзывами пользователей и продажами')\n",
    "plt.show()\n",
    "games_ps4_2['user_score'].corr(games_ps4_2['sales_total']).round(2)"
   ]
  },
  {
   "cell_type": "markdown",
   "metadata": {},
   "source": [
    "Посмотрите, как влияют на продажи отзывы пользователей и критиков внутри платформы PS3"
   ]
  },
  {
   "cell_type": "code",
   "execution_count": 210,
   "metadata": {},
   "outputs": [
    {
     "data": {
      "image/png": "[encoded data removed]",
      "text/plain": [
       "<Figure size 360x360 with 1 Axes>"
      ]
     },
     "metadata": {
      "needs_background": "light"
     },
     "output_type": "display_data"
    },
    {
     "data": {
      "text/plain": [
       "0.33"
      ]
     },
     "execution_count": 210,
     "metadata": {},
     "output_type": "execute_result"
    }
   ],
   "source": [
    "#по отзывам от критиков\n",
    "games_ps3 = df[(df['platform'] == 'PS3') & (df['critic_score'] > -1)].copy()\n",
    "games_ps3.plot(kind='scatter', x='critic_score', y='sales_total',alpha=0.5, grid=True, style='o', figsize=(5, 5))\n",
    "plt.xlabel('Оценка критиков')\n",
    "plt.ylabel('Сумма продаж')\n",
    "plt.title('Диаграмма рассеяния между отзывами критиков и продажами')\n",
    "plt.show()\n",
    "games_ps3['critic_score'].corr(games_ps3['sales_total']).round(2)"
   ]
  },
  {
   "cell_type": "code",
   "execution_count": 211,
   "metadata": {},
   "outputs": [
    {
     "data": {
      "image/png": "[encoded data removed]",
      "text/plain": [
       "<Figure size 360x360 with 1 Axes>"
      ]
     },
     "metadata": {
      "needs_background": "light"
     },
     "output_type": "display_data"
    },
    {
     "data": {
      "text/plain": [
       "0.0"
      ]
     },
     "execution_count": 211,
     "metadata": {},
     "output_type": "execute_result"
    }
   ],
   "source": [
    "#по отзывам от пользователей\n",
    "games_ps3_2= df[(df['platform'] == 'PS3') & (df['user_score'] > -1)].copy()\n",
    "games_ps3_2.plot(kind='scatter', x='user_score', y='sales_total',alpha=0.5, grid=True, style='o', figsize=(5, 5))\n",
    "plt.xlabel('Оценка пользователей')\n",
    "plt.ylabel('Сумма продаж')\n",
    "plt.title('Диаграмма рассеяния между отзывами пользователей и продажами')\n",
    "plt.show()\n",
    "games_ps3_2['user_score'].corr(games_ps3_2['sales_total']).round(2)"
   ]
  },
  {
   "cell_type": "markdown",
   "metadata": {},
   "source": [
    "Посмотрите, как влияют на продажи отзывы пользователей и критиков внутри платформы X360"
   ]
  },
  {
   "cell_type": "code",
   "execution_count": 212,
   "metadata": {},
   "outputs": [
    {
     "data": {
      "image/png": "[encoded data removed]",
      "text/plain": [
       "<Figure size 360x360 with 1 Axes>"
      ]
     },
     "metadata": {
      "needs_background": "light"
     },
     "output_type": "display_data"
    },
    {
     "data": {
      "text/plain": [
       "0.35"
      ]
     },
     "execution_count": 212,
     "metadata": {},
     "output_type": "execute_result"
    }
   ],
   "source": [
    "#по отзывам от критиков\n",
    "games_x360 = df[(df['platform'] == 'X360') & (df['critic_score'] > -1)].copy()\n",
    "games_x360.plot(kind='scatter', x='critic_score', y='sales_total',alpha=0.5, grid=True, style='o', figsize=(5, 5))\n",
    "plt.xlabel('Оценка критиков')\n",
    "plt.ylabel('Сумма продаж')\n",
    "plt.title('Диаграмма рассеяния между отзывами критиков и продажами')\n",
    "plt.show()\n",
    "games_x360['critic_score'].corr(games_x360['sales_total']).round(2)"
   ]
  },
  {
   "cell_type": "code",
   "execution_count": 213,
   "metadata": {},
   "outputs": [
    {
     "data": {
      "image/png": "[encoded data removed]",
      "text/plain": [
       "<Figure size 360x360 with 1 Axes>"
      ]
     },
     "metadata": {
      "needs_background": "light"
     },
     "output_type": "display_data"
    },
    {
     "data": {
      "text/plain": [
       "-0.01"
      ]
     },
     "execution_count": 213,
     "metadata": {},
     "output_type": "execute_result"
    }
   ],
   "source": [
    "#по отзывам от пользователей\n",
    "games_x360_2= df[(df['platform'] == 'X360') & (df['user_score'] > -1)].copy()\n",
    "games_x360_2.plot(kind='scatter', x='user_score', y='sales_total',alpha=0.5, grid=True, style='o', figsize=(5, 5))\n",
    "plt.xlabel('Оценка пользователей')\n",
    "plt.ylabel('Сумма продаж')\n",
    "plt.title('Диаграмма рассеяния между отзывами пользователей и продажами')\n",
    "plt.show()\n",
    "games_x360_2['user_score'].corr(games_x360_2['sales_total']).round(2)"
   ]
  },
  {
   "cell_type": "markdown",
   "metadata": {},
   "source": [
    "Посмотрите, как влияют на продажи отзывы пользователей и критиков внутри платформы XOne"
   ]
  },
  {
   "cell_type": "code",
   "execution_count": 214,
   "metadata": {},
   "outputs": [
    {
     "data": {
      "image/png": "[encoded data removed]",
      "text/plain": [
       "<Figure size 360x360 with 1 Axes>"
      ]
     },
     "metadata": {
      "needs_background": "light"
     },
     "output_type": "display_data"
    },
    {
     "data": {
      "text/plain": [
       "0.42"
      ]
     },
     "execution_count": 214,
     "metadata": {},
     "output_type": "execute_result"
    }
   ],
   "source": [
    "#по отзывам от критиков\n",
    "games_xone = df[(df['platform'] == 'XOne') & (df['critic_score'] > -1)].copy()\n",
    "games_xone.plot(kind='scatter', x='critic_score', y='sales_total',alpha=0.5, grid=True, style='o', figsize=(5, 5))\n",
    "plt.xlabel('Оценка критиков')\n",
    "plt.ylabel('Сумма продаж')\n",
    "plt.title('Диаграмма рассеяния между отзывами критиков и продажами')\n",
    "plt.show()\n",
    "games_xone['critic_score'].corr(games_xone['sales_total']).round(2)"
   ]
  },
  {
   "cell_type": "code",
   "execution_count": 215,
   "metadata": {},
   "outputs": [
    {
     "data": {
      "image/png": "[encoded data removed]",
      "text/plain": [
       "<Figure size 360x360 with 1 Axes>"
      ]
     },
     "metadata": {
      "needs_background": "light"
     },
     "output_type": "display_data"
    },
    {
     "data": {
      "text/plain": [
       "-0.07"
      ]
     },
     "execution_count": 215,
     "metadata": {},
     "output_type": "execute_result"
    }
   ],
   "source": [
    "#по отзывам от пользователей\n",
    "games_xone_2= df[(df['platform'] == 'XOne') & (df['user_score'] > -1)].copy()\n",
    "games_xone_2.plot(kind='scatter', x='user_score', y='sales_total',alpha=0.5, grid=True, style='o', figsize=(5, 5))\n",
    "plt.xlabel('Оценка пользователей')\n",
    "plt.ylabel('Сумма продаж')\n",
    "plt.title('Диаграмма рассеяния между отзывами пользователей и продажами')\n",
    "plt.show()\n",
    "games_xone_2['user_score'].corr(games_xone_2['sales_total']).round(2)"
   ]
  },
  {
   "cell_type": "markdown",
   "metadata": {},
   "source": [
    "Посмотрите, как влияют на продажи отзывы пользователей и критиков внутри платформы 3DS"
   ]
  },
  {
   "cell_type": "code",
   "execution_count": 216,
   "metadata": {},
   "outputs": [
    {
     "data": {
      "image/png": "[encoded data removed]",
      "text/plain": [
       "<Figure size 360x360 with 1 Axes>"
      ]
     },
     "metadata": {
      "needs_background": "light"
     },
     "output_type": "display_data"
    },
    {
     "data": {
      "text/plain": [
       "0.36"
      ]
     },
     "execution_count": 216,
     "metadata": {},
     "output_type": "execute_result"
    }
   ],
   "source": [
    "#по отзывам от критиков\n",
    "games_3ds = df[(df['platform'] == '3DS') & (df['critic_score'] > -1)].copy()\n",
    "games_3ds.plot(kind='scatter', x='critic_score', y='sales_total',alpha=0.5, grid=True, style='o', figsize=(5, 5))\n",
    "plt.xlabel('Оценка критиков')\n",
    "plt.ylabel('Сумма продаж')\n",
    "plt.title('Диаграмма рассеяния между отзывами критиков и продажами')\n",
    "plt.show()\n",
    "games_3ds['critic_score'].corr(games_3ds['sales_total']).round(2)"
   ]
  },
  {
   "cell_type": "code",
   "execution_count": 217,
   "metadata": {},
   "outputs": [
    {
     "data": {
      "image/png": "[encoded data removed]",
      "text/plain": [
       "<Figure size 360x360 with 1 Axes>"
      ]
     },
     "metadata": {
      "needs_background": "light"
     },
     "output_type": "display_data"
    },
    {
     "data": {
      "text/plain": [
       "0.24"
      ]
     },
     "execution_count": 217,
     "metadata": {},
     "output_type": "execute_result"
    }
   ],
   "source": [
    "#по отзывам от пользователей\n",
    "games_3ds_2= df[(df['platform'] == '3DS') & (df['user_score'] > -1)].copy()\n",
    "games_3ds_2.plot(kind='scatter', x='user_score', y='sales_total',alpha=0.5, grid=True, style='o', figsize=(5, 5))\n",
    "plt.xlabel('Оценка пользователей')\n",
    "plt.ylabel('Сумма продаж')\n",
    "plt.title('Диаграмма рассеяния между отзывами пользователей и продажами')\n",
    "plt.show()\n",
    "games_3ds_2['user_score'].corr(games_3ds_2['sales_total']).round(2)"
   ]
  },
  {
   "cell_type": "markdown",
   "metadata": {},
   "source": [
    "Посмотрели, как влияют на продажи отзывы пользователей и критиков внутри платформ PS4, PS3, XOne, X360 и 3DS.\n",
    "\n",
    "В большинстве случаев на продажи консолей влияет больше оценка критиков, корреляция там больше.\n",
    "В случае с платформой 3DS там произошло наоборот, больше влияние оказали отзывы пользователей. Но это 1 случай из 5."
   ]
  },
  {
   "cell_type": "markdown",
   "metadata": {},
   "source": [
    "Соотнесите выводы с продажами игр на других платформах. : Данные по корреляции между выручкой и оценкой по платформам PS2, X360, PS3, PS и XOne более или менее совпадает с общими данными по датафрейму."
   ]
  },
  {
   "cell_type": "markdown",
   "metadata": {},
   "source": [
    "Посмотрите на общее распределение игр по жанрам. Что можно сказать о самых прибыльных жанрах? Выделяются ли жанры с высокими и низкими продажами?"
   ]
  },
  {
   "cell_type": "code",
   "execution_count": 218,
   "metadata": {},
   "outputs": [
    {
     "data": {
      "image/png": "[encoded data removed]",
      "text/plain": [
       "<Figure size 720x360 with 1 Axes>"
      ]
     },
     "metadata": {
      "needs_background": "light"
     },
     "output_type": "display_data"
    }
   ],
   "source": [
    "genre_pt = df.pivot_table(index = 'genre', values = 'sales_total', aggfunc = ['sum', 'count'])\n",
    "genre_pt.columns = ['sum', 'count']\n",
    "genre_pt.plot(kind='bar', figsize=(10,5))\n",
    "plt.xlabel('Жанр игры')\n",
    "plt.ylabel('Кол-во и сумма продаж')\n",
    "plt.title('Статистика продаж по жанру игры')\n",
    "plt.show()"
   ]
  },
  {
   "cell_type": "code",
   "execution_count": 219,
   "metadata": {},
   "outputs": [
    {
     "data": {
      "image/png": "[encoded data removed]",
      "text/plain": [
       "<Figure size 1080x432 with 1 Axes>"
      ]
     },
     "metadata": {
      "needs_background": "light"
     },
     "output_type": "display_data"
    }
   ],
   "source": [
    "df[['sales_total', 'genre']].boxplot(column='sales_total', by='genre', figsize= (15, 6))\n",
    "plt.xlabel('Жанр')\n",
    "plt.ylabel('Продажи')\n",
    "plt.title('график «ящик с усами» по глобальным продажам игр в разбивке по жанрам')\n",
    "plt.ylim(0,2)\n",
    "plt.show()"
   ]
  },
  {
   "cell_type": "markdown",
   "metadata": {},
   "source": [
    "Больше всего игр жанра Action, Role-playing, adventure, shooter, спорт.\n",
    "У шутеров и спорта больший показатель средней медианы продаж. Наименьший показатель медианы у Приключений.\n",
    "Скорее всего это связано со сложностью производства остальных (больше затрат уходит), чем у игр категории Adventure. \n",
    "\n",
    "Меньше всего пользуются популярностью жанры Пазл и Стратегии и прибыль тоже мала."
   ]
  },
  {
   "cell_type": "markdown",
   "metadata": {},
   "source": [
    "#### Составьте портрет пользователя каждого региона"
   ]
  },
  {
   "cell_type": "markdown",
   "metadata": {},
   "source": [
    "Определите для пользователя каждого региона (NA, EU, JP):\n",
    "- Самые популярные платформы (топ-5). Опишите различия в долях продаж."
   ]
  },
  {
   "cell_type": "code",
   "execution_count": 220,
   "metadata": {},
   "outputs": [
    {
     "data": {
      "text/plain": [
       "Text(0.5, 1.0, 'Статистика продаж по жанру игры в Японии')"
      ]
     },
     "execution_count": 220,
     "metadata": {},
     "output_type": "execute_result"
    },
    {
     "data": {
      "image/png": "[encoded data removed]",
      "text/plain": [
       "<Figure size 432x288 with 1 Axes>"
      ]
     },
     "metadata": {
      "needs_background": "light"
     },
     "output_type": "display_data"
    },
    {
     "data": {
      "image/png": "[encoded data removed]",
      "text/plain": [
       "<Figure size 432x288 with 1 Axes>"
      ]
     },
     "metadata": {
      "needs_background": "light"
     },
     "output_type": "display_data"
    },
    {
     "data": {
      "image/png": "[encoded data removed]",
      "text/plain": [
       "<Figure size 432x288 with 1 Axes>"
      ]
     },
     "metadata": {
      "needs_background": "light"
     },
     "output_type": "display_data"
    }
   ],
   "source": [
    "df.groupby(by='genre').agg({'na_sales':'sum'}).sort_values(by='na_sales', ascending=False).head(5).plot(kind='bar')\n",
    "plt.xlabel('Популярный жанр игры')\n",
    "plt.ylabel('сумма продаж')\n",
    "plt.title('Статистика продаж по жанру игры в Северной Америке')\n",
    "df.groupby(by='genre').agg({'eu_sales':'sum'}).sort_values(by='eu_sales', ascending=False).head(5).plot(kind='bar')\n",
    "plt.xlabel('Популярный жанр игры')\n",
    "plt.ylabel('сумма продаж')\n",
    "plt.title('Статистика продаж по жанру игры в Европе')\n",
    "df.groupby(by='genre').agg({'jp_sales':'sum'}).sort_values(by='jp_sales', ascending=False).head(5).plot(kind='bar')\n",
    "plt.xlabel('Популярный жанр игры')\n",
    "plt.ylabel('сумма продаж')\n",
    "plt.title('Статистика продаж по жанру игры в Японии')\n"
   ]
  },
  {
   "cell_type": "markdown",
   "metadata": {},
   "source": [
    "В Северной Америке и Европе самым популярным жанром является - Экшн и Шутер. В Японии популярен жанр - Ролевая игра."
   ]
  },
  {
   "cell_type": "markdown",
   "metadata": {},
   "source": [
    "Самые популярные жанры (топ-5). Поясните разницу."
   ]
  },
  {
   "cell_type": "code",
   "execution_count": 221,
   "metadata": {},
   "outputs": [
    {
     "data": {
      "text/plain": [
       "Text(0.5, 1.0, 'Статистика продаж игровой консоли в Японии')"
      ]
     },
     "execution_count": 221,
     "metadata": {},
     "output_type": "execute_result"
    },
    {
     "data": {
      "image/png": "[encoded data removed]",
      "text/plain": [
       "<Figure size 432x288 with 1 Axes>"
      ]
     },
     "metadata": {
      "needs_background": "light"
     },
     "output_type": "display_data"
    },
    {
     "data": {
      "image/png": "[encoded data removed]",
      "text/plain": [
       "<Figure size 432x288 with 1 Axes>"
      ]
     },
     "metadata": {
      "needs_background": "light"
     },
     "output_type": "display_data"
    },
    {
     "data": {
      "image/png": "[encoded data removed]",
      "text/plain": [
       "<Figure size 432x288 with 1 Axes>"
      ]
     },
     "metadata": {
      "needs_background": "light"
     },
     "output_type": "display_data"
    }
   ],
   "source": [
    "df.groupby(by='platform').agg({'na_sales':'sum'}).sort_values(by='na_sales', ascending=False).head(5).plot(kind='bar')\n",
    "plt.xlabel('Популярная консоль')\n",
    "plt.ylabel('сумма продаж')\n",
    "plt.title('Статистика продаж игровой консоли в Северной Америке')\n",
    "df.groupby(by='platform').agg({'eu_sales':'sum'}).sort_values(by='eu_sales', ascending=False).head(5).plot(kind='bar')\n",
    "plt.xlabel('Популярная консоль')\n",
    "plt.ylabel('сумма продаж')\n",
    "plt.title('Статистика продаж игровой консоли в Европе')\n",
    "df.groupby(by='platform').agg({'jp_sales':'sum'}).sort_values(by='jp_sales', ascending=False).head(5).plot(kind='bar')\n",
    "plt.xlabel('Популярная консоль')\n",
    "plt.ylabel('сумма продаж')\n",
    "plt.title('Статистика продаж игровой консоли в Японии')"
   ]
  },
  {
   "cell_type": "markdown",
   "metadata": {},
   "source": [
    "В Северной Америке самой популярной консолью является - ХOne и PS4. В Европе популярна PS4. В Японии популярна консоль - 3DS."
   ]
  },
  {
   "cell_type": "markdown",
   "metadata": {},
   "source": [
    "Влияет ли рейтинг ESRB на продажи в отдельном регионе?"
   ]
  },
  {
   "cell_type": "code",
   "execution_count": 222,
   "metadata": {},
   "outputs": [
    {
     "data": {
      "text/plain": [
       "Text(0.5, 1.0, 'Статистика рейтинга ESRB в Японии')"
      ]
     },
     "execution_count": 222,
     "metadata": {},
     "output_type": "execute_result"
    },
    {
     "data": {
      "image/png": "[encoded data removed]",
      "text/plain": [
       "<Figure size 432x288 with 1 Axes>"
      ]
     },
     "metadata": {
      "needs_background": "light"
     },
     "output_type": "display_data"
    },
    {
     "data": {
      "image/png": "[encoded data removed]",
      "text/plain": [
       "<Figure size 432x288 with 1 Axes>"
      ]
     },
     "metadata": {
      "needs_background": "light"
     },
     "output_type": "display_data"
    },
    {
     "data": {
      "image/png": "[encoded data removed]",
      "text/plain": [
       "<Figure size 432x288 with 1 Axes>"
      ]
     },
     "metadata": {
      "needs_background": "light"
     },
     "output_type": "display_data"
    }
   ],
   "source": [
    "df.groupby(by='rating').agg({'na_sales':'sum'}).sort_values(by='na_sales', ascending=False).head(5).plot(kind='bar')\n",
    "plt.xlabel('рейтинг ESRB')\n",
    "plt.ylabel('сумма продаж')\n",
    "plt.title('Статистика рейтинга ESRB в Северной Америке')\n",
    "df.groupby(by='rating').agg({'eu_sales':'sum'}).sort_values(by='eu_sales', ascending=False).head(5).plot(kind='bar')\n",
    "plt.xlabel('рейтинг ESRB')\n",
    "plt.ylabel('сумма продаж')\n",
    "plt.title('Статистика рейтинга ESRB в Европе')\n",
    "df.groupby(by='rating').agg({'jp_sales':'sum'}).sort_values(by='jp_sales', ascending=False).head(5).plot(kind='bar')\n",
    "plt.xlabel('рейтинг ESRB')\n",
    "plt.ylabel('сумма продаж')\n",
    "plt.title('Статистика рейтинга ESRB в Японии')"
   ]
  },
  {
   "cell_type": "markdown",
   "metadata": {},
   "source": [
    "В Северной америке и Европе наиболее распространенный рейтинг M- подходит для лиц старше 17 лет.\n",
    "В Японии же - рейтинг T, который подходит для лиц старше 13 лет."
   ]
  },
  {
   "cell_type": "markdown",
   "metadata": {},
   "source": [
    "#### Проверьте гипотезы"
   ]
  },
  {
   "cell_type": "markdown",
   "metadata": {},
   "source": [
    "Формулировка гипотез будет происходить по принципу:\n",
    "\n",
    "    • Нулевая: параметры равны\n",
    "    • Альтернативная: двусторонняя - параметры не равны.\n"
   ]
  },
  {
   "cell_type": "markdown",
   "metadata": {},
   "source": [
    "Для проверки обеих гипотез будем использовать t-критерий Стьюдента, т.к. генеральные совокупности не зависят друг от друга.\n",
    "\n",
    "Есть специальный метод для проверки гипотезы о равенстве среднего двух генеральных совокупностей по взятым из них выборкам: scipy.stats.ttest_ind(array1, array2, equal_var, alternative). equal_var - по умолчанию True, alternative - по умолчанию 'two-sided'."
   ]
  },
  {
   "cell_type": "markdown",
   "metadata": {},
   "source": [
    "\n",
    "Средние пользовательские рейтинги платформ Xbox One и PC одинаковые\n",
    "\n",
    "Гипотезы:\n",
    "\n",
    "Нулевая гипотеза (Н0): средний пользовательский рейтинг платформ Xbox One и PC равны\n",
    "\n",
    "Альтернативная гипотеза (Н1): средний пользовательский рейтинг платформ Xbox One и PC не равны"
   ]
  },
  {
   "cell_type": "code",
   "execution_count": 224,
   "metadata": {},
   "outputs": [
    {
     "name": "stdout",
     "output_type": "stream",
     "text": [
      "p-значение: 0.14012658403611647\n",
      "Не получилось отвергнуть нулевую гипотезу\n"
     ]
    }
   ],
   "source": [
    "pc = df[(df['platform'] == 'PC') & (df['user_score'] > -1)]['user_score']\n",
    "xbox = df[(df['platform'] == 'XOne') & (df['user_score'] > -1)]['user_score']\n",
    "\n",
    "alpha = 0.05\n",
    "\n",
    "results = st.ttest_ind(pc, xbox)\n",
    "\n",
    "print('p-значение:', results.pvalue)\n",
    "\n",
    "if (results.pvalue < alpha):\n",
    "    print(\"Отвергаем нулевую гипотезу\")\n",
    "else:\n",
    "    print(\"Не получилось отвергнуть нулевую гипотезу\")"
   ]
  },
  {
   "cell_type": "markdown",
   "metadata": {},
   "source": [
    "Средние пользовательские рейтинги жанров Action и Sports разные.\n",
    "\n",
    "Гипотезы:\n",
    "\n",
    "Нулевая гипотеза (Н0): средний пользовательский рейтинг жанров Action и Sports равны\n",
    "\n",
    "Альтернативная гипотеза (Н1): средний пользовательский рейтинг жанров Action и Sports не равны"
   ]
  },
  {
   "cell_type": "code",
   "execution_count": 225,
   "metadata": {},
   "outputs": [
    {
     "name": "stdout",
     "output_type": "stream",
     "text": [
      "p-значение: 1.0517832389140023e-27\n",
      "Отвергаем нулевую гипотезу\n"
     ]
    }
   ],
   "source": [
    "action = df[(df['genre'] == 'Action') & (df['user_score'] > 0)]['user_score']\n",
    "sports = df[(df['genre'] == 'Sports') & (df['user_score'] > 0)]['user_score']\n",
    "\n",
    "alpha = 0.05\n",
    "\n",
    "results = st.ttest_ind(action, sports)\n",
    "print('p-значение:', results.pvalue)\n",
    "\n",
    "if (results.pvalue < alpha):\n",
    "    print(\"Отвергаем нулевую гипотезу\")\n",
    "else:\n",
    "    print(\"Не получилось отвергнуть нулевую гипотезу\")"
   ]
  },
  {
   "cell_type": "markdown",
   "metadata": {},
   "source": [
    "Вывод: \n",
    "для первой гипотезы о равенстве среднего пользовательского рейтинга платформ Xbox One и PC, опровергнуть нулевую гипотезу не удалось. А во втрой гипотезе средние пользовательские рейтинги жанров Action и Sports не одинаковые."
   ]
  },
  {
   "cell_type": "markdown",
   "metadata": {},
   "source": [
    "#### Общий вывод\n",
    "\n",
    "Нам были предоставлены данные по игровым консолям для анализа, чтобы  выявить определяющие успешность продаж игры и ее закономерность.\n",
    "\n",
    "В ходе работы было выполнено:\n",
    "\n",
    "- Загрузка файла с данными и изучение общей информации\n",
    "        \n",
    "         - В таблице 16715 строк, 11 столбцов. Есть неверный вывод тип данных в столбцах: Year_of_Release, Critic_Score,   User_Score, имеется много пропусков.\n",
    "\n",
    "- Проведена предобработка данных\n",
    "        \n",
    "         - В столбцах Name, Year_of_Release, Genre, Critic_Score, User_Score, Rating обнаружено наличие пропусков. Наибольшее кол-во пропусков в процентом соотношении в столбцах Critic_Score, User_Score, Rating.\n",
    "\n",
    "         - Произвели замену пропусков в столбцах Year_of_Release, Critic_Score, User_Score и привели к другому типу данных, так как в ходе исследования нам понадобятся их значения.\n",
    "\n",
    "         - Пропуски в столбце Rating — рейтинг от организации ESRB, определяет рейтинг компьютерных игр и присваивает им подходящую возрастную категорию. Заменили пропуски в столбце рейтинга на значение 'undefined'.\n",
    "         \n",
    "         - critic_score и user_score могли получить пропуски либо из-за отсутствия платформ с выставлением оценки от пользователя и критика в то время которое была выпущена игра, либо игру могли просто не оценивать\n",
    "\n",
    "         - Пропуски в столбцах name, genre, year_of_realis могли возникнуть по причине отсутствия названия, жанра или неопределенного года выпуска.\n",
    "         \n",
    "- Проведен исследовательский анализ данных\n",
    "\n",
    "         - По графику видно, что игры до 1994 года практически не выпускались, по причине еще не развитости данного сигмента. Далее идет рост по кол-ву выпускаемых игр. Самый пик приходится с 2007-2011 года, потом идет резкий спад. Возможно из-за кризиса или развития технологий, которое привело к снижению интереса к игровым консолям.\n",
    "\n",
    "         - По графикам видно, что средняя продолжительность консоли 10-11 лет. В начале всегда идет рост по продажам и потом сильно уменьшается.\n",
    "\n",
    "         - В 2013 году были более высокие продажи, чем в последующих, рынок игровых консолей снизился. \n",
    "        \n",
    "         - Самой популярной консулью является PS4.\n",
    "\n",
    "         - Посмотрели, как влияют на продажи отзывы пользователей и критиков внутри платформ PS4, PS3, XOne, X360 и 3DS.В большинстве случаев на продажи консолей влияет больше оценка критиков, корреляция там больше.\n",
    "        \n",
    "         - Больше всего игр жанра Action, Role-playing, adventure, shooter, спорт.\n",
    "        У шутеров и спорта больший показатель средней медианы продаж. Наименьший показатель медианы у Приключений. Скорее всего это связано со сложностью производства остальных (больше затрат уходит), чем у игр категории Adventure. \n",
    "\n",
    "         - Меньше всего пользуются популярностью жанры Пазл и Стратегии и прибыль тоже мала.\n",
    "        \n",
    "- Составлен портрет пользователя каждого региона\n",
    "\n",
    "         - В Северной Америке и Европе самым популярным жанром является - Экшн и Шутер. В Японии популярен жанр - Ролевая игра.\n",
    "         - В Северной Америке самой популярной консолью является - ХOne и PS4. В Европе популярна PS4. В Японии популярна консоль - 3DS.\n",
    "         - В Северной америке и Европе наиболее распространенный рейтинг M- подходит для лиц старше 17 лет. В Японии же - рейтинг T, который подходит для лиц старше 13 лет.\n",
    "        \n",
    "- Проведена проверка гипотезы\n",
    "\n",
    "         - Для первой гипотезы о равенстве среднего пользовательского рейтинга платформ Xbox One и PC, опровергнуть нулевую гипотезу не удалось. А во втрой гипотезе средние пользовательские рейтинги жанров Action и Sports не одинаковые.\n",
    "\n"
   ]
  }
 ],
 "metadata": {
  "ExecuteTimeLog": [
   {
    "duration": 1352,
    "start_time": "2023-11-08T17:52:39.069Z"
   },
   {
    "duration": 101,
    "start_time": "2023-11-08T17:56:31.769Z"
   },
   {
    "duration": 22,
    "start_time": "2023-11-08T17:57:00.319Z"
   },
   {
    "duration": 54,
    "start_time": "2023-11-08T17:57:08.655Z"
   },
   {
    "duration": 18,
    "start_time": "2023-11-08T17:59:08.776Z"
   },
   {
    "duration": 11,
    "start_time": "2023-11-08T18:05:43.128Z"
   },
   {
    "duration": 90,
    "start_time": "2023-11-08T18:08:49.987Z"
   },
   {
    "duration": 15,
    "start_time": "2023-11-08T18:08:54.707Z"
   },
   {
    "duration": 4,
    "start_time": "2023-11-08T18:25:53.208Z"
   },
   {
    "duration": 100,
    "start_time": "2023-11-08T18:32:16.527Z"
   },
   {
    "duration": 12,
    "start_time": "2023-11-08T18:32:27.591Z"
   },
   {
    "duration": 3,
    "start_time": "2023-11-08T18:36:06.463Z"
   },
   {
    "duration": 22,
    "start_time": "2023-11-08T18:36:18.356Z"
   },
   {
    "duration": 530,
    "start_time": "2023-11-08T18:37:09.974Z"
   },
   {
    "duration": 13,
    "start_time": "2023-11-08T18:38:26.166Z"
   },
   {
    "duration": 7,
    "start_time": "2023-11-08T18:38:52.883Z"
   },
   {
    "duration": 15,
    "start_time": "2023-11-08T18:39:09.753Z"
   },
   {
    "duration": 8,
    "start_time": "2023-11-08T18:40:38.588Z"
   },
   {
    "duration": 6,
    "start_time": "2023-11-08T18:41:06.671Z"
   },
   {
    "duration": 32,
    "start_time": "2023-11-08T18:43:10.783Z"
   },
   {
    "duration": 14,
    "start_time": "2023-11-08T18:43:36.759Z"
   },
   {
    "duration": 6,
    "start_time": "2023-11-08T18:44:04.411Z"
   },
   {
    "duration": 6,
    "start_time": "2023-11-08T18:44:14.301Z"
   },
   {
    "duration": 1153,
    "start_time": "2023-11-08T18:44:33.638Z"
   },
   {
    "duration": 57,
    "start_time": "2023-11-08T18:44:34.793Z"
   },
   {
    "duration": 25,
    "start_time": "2023-11-08T18:44:34.852Z"
   },
   {
    "duration": 30,
    "start_time": "2023-11-08T18:44:34.878Z"
   },
   {
    "duration": 26,
    "start_time": "2023-11-08T18:44:34.911Z"
   },
   {
    "duration": 21,
    "start_time": "2023-11-08T18:44:34.939Z"
   },
   {
    "duration": 27,
    "start_time": "2023-11-08T18:44:34.962Z"
   },
   {
    "duration": 4,
    "start_time": "2023-11-08T18:44:34.991Z"
   },
   {
    "duration": 35,
    "start_time": "2023-11-08T18:44:34.996Z"
   },
   {
    "duration": 7,
    "start_time": "2023-11-08T18:44:35.033Z"
   },
   {
    "duration": 8,
    "start_time": "2023-11-08T18:44:35.042Z"
   },
   {
    "duration": 37,
    "start_time": "2023-11-08T18:44:35.052Z"
   },
   {
    "duration": 8,
    "start_time": "2023-11-08T18:55:24.142Z"
   },
   {
    "duration": 122,
    "start_time": "2023-11-08T18:55:48.808Z"
   },
   {
    "duration": 7,
    "start_time": "2023-11-08T18:57:13.858Z"
   },
   {
    "duration": 16,
    "start_time": "2023-11-08T18:57:16.882Z"
   },
   {
    "duration": 1200,
    "start_time": "2023-11-08T18:57:23.924Z"
   },
   {
    "duration": 59,
    "start_time": "2023-11-08T18:57:25.127Z"
   },
   {
    "duration": 25,
    "start_time": "2023-11-08T18:57:25.187Z"
   },
   {
    "duration": 16,
    "start_time": "2023-11-08T18:57:25.214Z"
   },
   {
    "duration": 17,
    "start_time": "2023-11-08T18:57:25.232Z"
   },
   {
    "duration": 25,
    "start_time": "2023-11-08T18:57:25.250Z"
   },
   {
    "duration": 21,
    "start_time": "2023-11-08T18:57:25.277Z"
   },
   {
    "duration": 13,
    "start_time": "2023-11-08T18:57:25.300Z"
   },
   {
    "duration": 49,
    "start_time": "2023-11-08T18:57:25.314Z"
   },
   {
    "duration": 22,
    "start_time": "2023-11-08T18:57:25.366Z"
   },
   {
    "duration": 17,
    "start_time": "2023-11-08T18:57:25.390Z"
   },
   {
    "duration": 137,
    "start_time": "2023-11-08T18:57:25.410Z"
   },
   {
    "duration": 0,
    "start_time": "2023-11-08T18:57:25.548Z"
   },
   {
    "duration": 0,
    "start_time": "2023-11-08T18:57:25.549Z"
   },
   {
    "duration": 8,
    "start_time": "2023-11-08T19:00:31.282Z"
   },
   {
    "duration": 5,
    "start_time": "2023-11-08T19:00:36.582Z"
   },
   {
    "duration": 1245,
    "start_time": "2023-11-08T19:01:18.193Z"
   },
   {
    "duration": 58,
    "start_time": "2023-11-08T19:01:19.440Z"
   },
   {
    "duration": 22,
    "start_time": "2023-11-08T19:01:19.500Z"
   },
   {
    "duration": 51,
    "start_time": "2023-11-08T19:01:19.524Z"
   },
   {
    "duration": 43,
    "start_time": "2023-11-08T19:01:19.577Z"
   },
   {
    "duration": 35,
    "start_time": "2023-11-08T19:01:19.622Z"
   },
   {
    "duration": 27,
    "start_time": "2023-11-08T19:01:19.659Z"
   },
   {
    "duration": 3,
    "start_time": "2023-11-08T19:01:19.688Z"
   },
   {
    "duration": 29,
    "start_time": "2023-11-08T19:01:19.693Z"
   },
   {
    "duration": 19,
    "start_time": "2023-11-08T19:01:19.724Z"
   },
   {
    "duration": 11,
    "start_time": "2023-11-08T19:01:19.744Z"
   },
   {
    "duration": 16,
    "start_time": "2023-11-08T19:01:19.756Z"
   },
   {
    "duration": 9,
    "start_time": "2023-11-08T19:01:19.774Z"
   },
   {
    "duration": 28,
    "start_time": "2023-11-08T19:01:19.785Z"
   },
   {
    "duration": 7,
    "start_time": "2023-11-08T19:02:19.921Z"
   },
   {
    "duration": 100,
    "start_time": "2023-11-08T19:03:11.279Z"
   },
   {
    "duration": 7,
    "start_time": "2023-11-08T19:03:24.699Z"
   },
   {
    "duration": 6,
    "start_time": "2023-11-08T19:03:57.891Z"
   },
   {
    "duration": 1199,
    "start_time": "2023-11-08T19:04:31.090Z"
   },
   {
    "duration": 56,
    "start_time": "2023-11-08T19:04:32.291Z"
   },
   {
    "duration": 29,
    "start_time": "2023-11-08T19:04:32.349Z"
   },
   {
    "duration": 30,
    "start_time": "2023-11-08T19:04:32.380Z"
   },
   {
    "duration": 19,
    "start_time": "2023-11-08T19:04:32.411Z"
   },
   {
    "duration": 17,
    "start_time": "2023-11-08T19:04:32.431Z"
   },
   {
    "duration": 37,
    "start_time": "2023-11-08T19:04:32.450Z"
   },
   {
    "duration": 4,
    "start_time": "2023-11-08T19:04:32.489Z"
   },
   {
    "duration": 48,
    "start_time": "2023-11-08T19:04:32.494Z"
   },
   {
    "duration": 28,
    "start_time": "2023-11-08T19:04:32.545Z"
   },
   {
    "duration": 23,
    "start_time": "2023-11-08T19:04:32.575Z"
   },
   {
    "duration": 26,
    "start_time": "2023-11-08T19:04:32.599Z"
   },
   {
    "duration": 9,
    "start_time": "2023-11-08T19:04:32.627Z"
   },
   {
    "duration": 32,
    "start_time": "2023-11-08T19:04:32.637Z"
   },
   {
    "duration": 9,
    "start_time": "2023-11-08T19:04:56.835Z"
   },
   {
    "duration": 10,
    "start_time": "2023-11-08T19:05:00.683Z"
   },
   {
    "duration": 5,
    "start_time": "2023-11-08T19:05:04.441Z"
   },
   {
    "duration": 6,
    "start_time": "2023-11-08T19:10:34.148Z"
   },
   {
    "duration": 4,
    "start_time": "2023-11-08T19:12:16.367Z"
   },
   {
    "duration": 4,
    "start_time": "2023-11-08T19:12:42.571Z"
   },
   {
    "duration": 4,
    "start_time": "2023-11-08T19:12:56.753Z"
   },
   {
    "duration": 3,
    "start_time": "2023-11-08T19:13:12.986Z"
   },
   {
    "duration": 6,
    "start_time": "2023-11-08T19:13:15.830Z"
   },
   {
    "duration": 5,
    "start_time": "2023-11-08T19:13:16.999Z"
   },
   {
    "duration": 95,
    "start_time": "2023-11-08T19:13:24.625Z"
   },
   {
    "duration": 88,
    "start_time": "2023-11-08T19:13:28.612Z"
   },
   {
    "duration": 4,
    "start_time": "2023-11-08T19:13:42.928Z"
   },
   {
    "duration": 9,
    "start_time": "2023-11-08T19:22:21.101Z"
   },
   {
    "duration": 9,
    "start_time": "2023-11-08T19:22:32.538Z"
   },
   {
    "duration": 10,
    "start_time": "2023-11-08T19:22:42.249Z"
   },
   {
    "duration": 1189,
    "start_time": "2023-11-08T19:23:01.198Z"
   },
   {
    "duration": 57,
    "start_time": "2023-11-08T19:23:02.389Z"
   },
   {
    "duration": 21,
    "start_time": "2023-11-08T19:23:02.448Z"
   },
   {
    "duration": 53,
    "start_time": "2023-11-08T19:23:02.471Z"
   },
   {
    "duration": 23,
    "start_time": "2023-11-08T19:23:02.526Z"
   },
   {
    "duration": 45,
    "start_time": "2023-11-08T19:23:02.551Z"
   },
   {
    "duration": 77,
    "start_time": "2023-11-08T19:23:02.598Z"
   },
   {
    "duration": 21,
    "start_time": "2023-11-08T19:23:02.677Z"
   },
   {
    "duration": 94,
    "start_time": "2023-11-08T19:23:02.700Z"
   },
   {
    "duration": 41,
    "start_time": "2023-11-08T19:23:02.798Z"
   },
   {
    "duration": 96,
    "start_time": "2023-11-08T19:23:02.841Z"
   },
   {
    "duration": 32,
    "start_time": "2023-11-08T19:23:02.939Z"
   },
   {
    "duration": 29,
    "start_time": "2023-11-08T19:23:02.973Z"
   },
   {
    "duration": 122,
    "start_time": "2023-11-08T19:23:03.004Z"
   },
   {
    "duration": 0,
    "start_time": "2023-11-08T19:23:03.128Z"
   },
   {
    "duration": 0,
    "start_time": "2023-11-08T19:23:03.130Z"
   },
   {
    "duration": 0,
    "start_time": "2023-11-08T19:23:03.131Z"
   },
   {
    "duration": 12,
    "start_time": "2023-11-08T19:24:02.655Z"
   },
   {
    "duration": 8,
    "start_time": "2023-11-08T19:24:09.991Z"
   },
   {
    "duration": 10,
    "start_time": "2023-11-08T19:24:55.471Z"
   },
   {
    "duration": 1169,
    "start_time": "2023-11-08T19:27:51.516Z"
   },
   {
    "duration": 58,
    "start_time": "2023-11-08T19:27:52.687Z"
   },
   {
    "duration": 25,
    "start_time": "2023-11-08T19:27:52.747Z"
   },
   {
    "duration": 14,
    "start_time": "2023-11-08T19:27:52.774Z"
   },
   {
    "duration": 10,
    "start_time": "2023-11-08T19:27:52.790Z"
   },
   {
    "duration": 33,
    "start_time": "2023-11-08T19:27:52.802Z"
   },
   {
    "duration": 19,
    "start_time": "2023-11-08T19:27:52.836Z"
   },
   {
    "duration": 3,
    "start_time": "2023-11-08T19:27:52.857Z"
   },
   {
    "duration": 35,
    "start_time": "2023-11-08T19:27:52.863Z"
   },
   {
    "duration": 6,
    "start_time": "2023-11-08T19:27:52.925Z"
   },
   {
    "duration": 10,
    "start_time": "2023-11-08T19:27:52.933Z"
   },
   {
    "duration": 15,
    "start_time": "2023-11-08T19:27:52.945Z"
   },
   {
    "duration": 7,
    "start_time": "2023-11-08T19:27:52.962Z"
   },
   {
    "duration": 120,
    "start_time": "2023-11-08T19:27:52.971Z"
   },
   {
    "duration": 0,
    "start_time": "2023-11-08T19:27:53.093Z"
   },
   {
    "duration": 0,
    "start_time": "2023-11-08T19:27:53.094Z"
   },
   {
    "duration": 0,
    "start_time": "2023-11-08T19:27:53.095Z"
   },
   {
    "duration": 8,
    "start_time": "2023-11-08T19:28:21.763Z"
   },
   {
    "duration": 1116,
    "start_time": "2023-11-08T19:28:38.167Z"
   },
   {
    "duration": 76,
    "start_time": "2023-11-08T19:28:39.285Z"
   },
   {
    "duration": 24,
    "start_time": "2023-11-08T19:28:39.363Z"
   },
   {
    "duration": 17,
    "start_time": "2023-11-08T19:28:39.390Z"
   },
   {
    "duration": 23,
    "start_time": "2023-11-08T19:28:39.409Z"
   },
   {
    "duration": 15,
    "start_time": "2023-11-08T19:28:39.433Z"
   },
   {
    "duration": 26,
    "start_time": "2023-11-08T19:28:39.450Z"
   },
   {
    "duration": 3,
    "start_time": "2023-11-08T19:28:39.478Z"
   },
   {
    "duration": 48,
    "start_time": "2023-11-08T19:28:39.483Z"
   },
   {
    "duration": 9,
    "start_time": "2023-11-08T19:28:39.534Z"
   },
   {
    "duration": 8,
    "start_time": "2023-11-08T19:28:39.544Z"
   },
   {
    "duration": 5,
    "start_time": "2023-11-08T19:28:39.554Z"
   },
   {
    "duration": 9,
    "start_time": "2023-11-08T19:28:39.560Z"
   },
   {
    "duration": 12,
    "start_time": "2023-11-08T19:28:39.571Z"
   },
   {
    "duration": 10,
    "start_time": "2023-11-08T19:28:39.585Z"
   },
   {
    "duration": 7,
    "start_time": "2023-11-08T19:28:39.624Z"
   },
   {
    "duration": 6,
    "start_time": "2023-11-08T19:28:39.634Z"
   },
   {
    "duration": 93,
    "start_time": "2023-11-08T19:31:47.336Z"
   },
   {
    "duration": 6,
    "start_time": "2023-11-08T19:42:41.335Z"
   },
   {
    "duration": 1123,
    "start_time": "2023-11-08T19:44:37.068Z"
   },
   {
    "duration": 56,
    "start_time": "2023-11-08T19:44:38.194Z"
   },
   {
    "duration": 23,
    "start_time": "2023-11-08T19:44:38.252Z"
   },
   {
    "duration": 18,
    "start_time": "2023-11-08T19:44:38.276Z"
   },
   {
    "duration": 33,
    "start_time": "2023-11-08T19:44:38.296Z"
   },
   {
    "duration": 18,
    "start_time": "2023-11-08T19:44:38.331Z"
   },
   {
    "duration": 26,
    "start_time": "2023-11-08T19:44:38.352Z"
   },
   {
    "duration": 29,
    "start_time": "2023-11-08T19:44:38.379Z"
   },
   {
    "duration": 85,
    "start_time": "2023-11-08T19:44:38.411Z"
   },
   {
    "duration": 31,
    "start_time": "2023-11-08T19:44:38.498Z"
   },
   {
    "duration": 12,
    "start_time": "2023-11-08T19:44:38.531Z"
   },
   {
    "duration": 6,
    "start_time": "2023-11-08T19:44:38.544Z"
   },
   {
    "duration": 13,
    "start_time": "2023-11-08T19:44:38.551Z"
   },
   {
    "duration": 9,
    "start_time": "2023-11-08T19:44:38.567Z"
   },
   {
    "duration": 16,
    "start_time": "2023-11-08T19:44:38.578Z"
   },
   {
    "duration": 30,
    "start_time": "2023-11-08T19:44:38.595Z"
   },
   {
    "duration": 9,
    "start_time": "2023-11-08T19:44:38.627Z"
   },
   {
    "duration": 14,
    "start_time": "2023-11-08T19:44:38.638Z"
   },
   {
    "duration": 5,
    "start_time": "2023-11-08T19:45:55.690Z"
   },
   {
    "duration": 6,
    "start_time": "2023-11-08T19:46:34.821Z"
   },
   {
    "duration": 23,
    "start_time": "2023-11-08T19:47:02.078Z"
   },
   {
    "duration": 110,
    "start_time": "2023-11-08T19:55:24.085Z"
   },
   {
    "duration": 348,
    "start_time": "2023-11-08T19:55:39.645Z"
   },
   {
    "duration": 358,
    "start_time": "2023-11-08T19:56:13.098Z"
   },
   {
    "duration": 345,
    "start_time": "2023-11-08T19:57:10.897Z"
   },
   {
    "duration": 328,
    "start_time": "2023-11-08T19:57:21.831Z"
   },
   {
    "duration": 380,
    "start_time": "2023-11-08T20:03:07.586Z"
   },
   {
    "duration": 312,
    "start_time": "2023-11-08T20:03:24.602Z"
   },
   {
    "duration": 76,
    "start_time": "2023-11-08T20:05:03.200Z"
   },
   {
    "duration": 78,
    "start_time": "2023-11-08T20:05:23.304Z"
   },
   {
    "duration": 77,
    "start_time": "2023-11-08T20:06:05.129Z"
   },
   {
    "duration": 71,
    "start_time": "2023-11-08T20:06:46.100Z"
   },
   {
    "duration": 85,
    "start_time": "2023-11-08T20:09:29.167Z"
   },
   {
    "duration": 83,
    "start_time": "2023-11-08T20:09:39.797Z"
   },
   {
    "duration": 1154,
    "start_time": "2023-11-08T20:10:15.969Z"
   },
   {
    "duration": 62,
    "start_time": "2023-11-08T20:10:17.125Z"
   },
   {
    "duration": 35,
    "start_time": "2023-11-08T20:10:17.189Z"
   },
   {
    "duration": 17,
    "start_time": "2023-11-08T20:10:17.227Z"
   },
   {
    "duration": 17,
    "start_time": "2023-11-08T20:10:17.246Z"
   },
   {
    "duration": 17,
    "start_time": "2023-11-08T20:10:17.265Z"
   },
   {
    "duration": 45,
    "start_time": "2023-11-08T20:10:17.285Z"
   },
   {
    "duration": 4,
    "start_time": "2023-11-08T20:10:17.332Z"
   },
   {
    "duration": 34,
    "start_time": "2023-11-08T20:10:17.338Z"
   },
   {
    "duration": 10,
    "start_time": "2023-11-08T20:10:17.375Z"
   },
   {
    "duration": 11,
    "start_time": "2023-11-08T20:10:17.387Z"
   },
   {
    "duration": 27,
    "start_time": "2023-11-08T20:10:17.400Z"
   },
   {
    "duration": 10,
    "start_time": "2023-11-08T20:10:17.429Z"
   },
   {
    "duration": 5,
    "start_time": "2023-11-08T20:10:17.440Z"
   },
   {
    "duration": 10,
    "start_time": "2023-11-08T20:10:17.446Z"
   },
   {
    "duration": 11,
    "start_time": "2023-11-08T20:10:17.458Z"
   },
   {
    "duration": 6,
    "start_time": "2023-11-08T20:10:17.470Z"
   },
   {
    "duration": 10,
    "start_time": "2023-11-08T20:10:17.477Z"
   },
   {
    "duration": 49,
    "start_time": "2023-11-08T20:10:17.489Z"
   },
   {
    "duration": 389,
    "start_time": "2023-11-08T20:10:17.540Z"
   },
   {
    "duration": 188,
    "start_time": "2023-11-08T20:10:17.931Z"
   },
   {
    "duration": 79,
    "start_time": "2023-11-08T20:10:36.247Z"
   },
   {
    "duration": 303,
    "start_time": "2023-11-08T20:11:29.457Z"
   },
   {
    "duration": 292,
    "start_time": "2023-11-08T20:12:32.069Z"
   },
   {
    "duration": 17,
    "start_time": "2023-11-08T20:33:42.600Z"
   },
   {
    "duration": 334,
    "start_time": "2023-11-08T20:33:53.602Z"
   },
   {
    "duration": 153,
    "start_time": "2023-11-08T20:46:51.995Z"
   },
   {
    "duration": 236,
    "start_time": "2023-11-08T20:47:37.659Z"
   },
   {
    "duration": 155,
    "start_time": "2023-11-08T20:49:24.980Z"
   },
   {
    "duration": 21,
    "start_time": "2023-11-08T20:49:41.165Z"
   },
   {
    "duration": 160,
    "start_time": "2023-11-08T20:50:04.699Z"
   },
   {
    "duration": 183,
    "start_time": "2023-11-08T20:50:15.236Z"
   },
   {
    "duration": 199,
    "start_time": "2023-11-08T20:51:57.253Z"
   },
   {
    "duration": 194,
    "start_time": "2023-11-08T20:52:33.775Z"
   },
   {
    "duration": 195,
    "start_time": "2023-11-08T20:53:10.587Z"
   },
   {
    "duration": 194,
    "start_time": "2023-11-08T20:53:19.508Z"
   },
   {
    "duration": 193,
    "start_time": "2023-11-08T20:53:56.702Z"
   },
   {
    "duration": 252,
    "start_time": "2023-11-08T20:54:15.881Z"
   },
   {
    "duration": 4419,
    "start_time": "2023-11-08T21:14:25.751Z"
   },
   {
    "duration": 4156,
    "start_time": "2023-11-08T21:14:50.734Z"
   },
   {
    "duration": 10294,
    "start_time": "2023-11-08T21:15:09.382Z"
   },
   {
    "duration": 1218,
    "start_time": "2023-11-08T21:19:14.193Z"
   },
   {
    "duration": 131,
    "start_time": "2023-11-08T21:25:21.381Z"
   },
   {
    "duration": 1039,
    "start_time": "2023-11-08T21:25:45.054Z"
   },
   {
    "duration": 156,
    "start_time": "2023-11-08T21:26:36.838Z"
   },
   {
    "duration": 1392,
    "start_time": "2023-11-09T02:57:57.066Z"
   },
   {
    "duration": 95,
    "start_time": "2023-11-09T02:57:58.460Z"
   },
   {
    "duration": 22,
    "start_time": "2023-11-09T02:57:58.557Z"
   },
   {
    "duration": 15,
    "start_time": "2023-11-09T02:57:58.581Z"
   },
   {
    "duration": 9,
    "start_time": "2023-11-09T02:57:58.598Z"
   },
   {
    "duration": 12,
    "start_time": "2023-11-09T02:57:58.608Z"
   },
   {
    "duration": 17,
    "start_time": "2023-11-09T02:57:58.622Z"
   },
   {
    "duration": 3,
    "start_time": "2023-11-09T02:57:58.640Z"
   },
   {
    "duration": 49,
    "start_time": "2023-11-09T02:57:58.644Z"
   },
   {
    "duration": 7,
    "start_time": "2023-11-09T02:57:58.696Z"
   },
   {
    "duration": 20,
    "start_time": "2023-11-09T02:57:58.704Z"
   },
   {
    "duration": 4,
    "start_time": "2023-11-09T02:57:58.726Z"
   },
   {
    "duration": 10,
    "start_time": "2023-11-09T02:57:58.732Z"
   },
   {
    "duration": 13,
    "start_time": "2023-11-09T02:57:58.743Z"
   },
   {
    "duration": 10,
    "start_time": "2023-11-09T02:57:58.758Z"
   },
   {
    "duration": 10,
    "start_time": "2023-11-09T02:57:58.770Z"
   },
   {
    "duration": 4,
    "start_time": "2023-11-09T02:57:58.782Z"
   },
   {
    "duration": 6,
    "start_time": "2023-11-09T02:57:58.787Z"
   },
   {
    "duration": 21,
    "start_time": "2023-11-09T02:57:58.795Z"
   },
   {
    "duration": 387,
    "start_time": "2023-11-09T02:57:58.818Z"
   },
   {
    "duration": 305,
    "start_time": "2023-11-09T02:57:59.206Z"
   },
   {
    "duration": 218,
    "start_time": "2023-11-09T02:57:59.513Z"
   },
   {
    "duration": 212,
    "start_time": "2023-11-09T02:57:59.733Z"
   },
   {
    "duration": 216,
    "start_time": "2023-11-09T02:57:59.946Z"
   },
   {
    "duration": 210,
    "start_time": "2023-11-09T02:58:00.164Z"
   },
   {
    "duration": 1221,
    "start_time": "2023-11-09T02:58:00.381Z"
   },
   {
    "duration": 146,
    "start_time": "2023-11-09T02:58:01.603Z"
   },
   {
    "duration": 425,
    "start_time": "2023-11-09T02:58:01.753Z"
   },
   {
    "duration": 357,
    "start_time": "2023-11-09T02:58:23.326Z"
   },
   {
    "duration": 6,
    "start_time": "2023-11-09T03:00:35.109Z"
   },
   {
    "duration": 9,
    "start_time": "2023-11-09T03:00:54.727Z"
   },
   {
    "duration": 13,
    "start_time": "2023-11-09T03:01:26.380Z"
   },
   {
    "duration": 4,
    "start_time": "2023-11-09T03:01:32.085Z"
   },
   {
    "duration": 7,
    "start_time": "2023-11-09T03:02:04.592Z"
   },
   {
    "duration": 9,
    "start_time": "2023-11-09T03:04:17.788Z"
   },
   {
    "duration": 134,
    "start_time": "2023-11-09T03:04:41.948Z"
   },
   {
    "duration": 9,
    "start_time": "2023-11-09T03:09:12.158Z"
   },
   {
    "duration": 140,
    "start_time": "2023-11-09T03:09:35.573Z"
   },
   {
    "duration": 142,
    "start_time": "2023-11-09T03:09:48.595Z"
   },
   {
    "duration": 145,
    "start_time": "2023-11-09T03:10:46.448Z"
   },
   {
    "duration": 157,
    "start_time": "2023-11-09T03:10:56.703Z"
   },
   {
    "duration": 133,
    "start_time": "2023-11-09T03:12:29.674Z"
   },
   {
    "duration": 130,
    "start_time": "2023-11-09T03:16:25.492Z"
   },
   {
    "duration": 135,
    "start_time": "2023-11-09T03:16:41.995Z"
   },
   {
    "duration": 223,
    "start_time": "2023-11-09T03:18:34.323Z"
   },
   {
    "duration": 138,
    "start_time": "2023-11-09T03:19:02.461Z"
   },
   {
    "duration": 211,
    "start_time": "2023-11-09T03:23:55.713Z"
   },
   {
    "duration": 25,
    "start_time": "2023-11-09T03:24:55.708Z"
   },
   {
    "duration": 220,
    "start_time": "2023-11-09T03:25:04.971Z"
   },
   {
    "duration": 346,
    "start_time": "2023-11-09T03:28:55.150Z"
   },
   {
    "duration": 28,
    "start_time": "2023-11-09T03:29:21.564Z"
   },
   {
    "duration": 280,
    "start_time": "2023-11-09T03:29:34.884Z"
   },
   {
    "duration": 239,
    "start_time": "2023-11-09T03:30:47.916Z"
   },
   {
    "duration": 328,
    "start_time": "2023-11-09T03:36:35.611Z"
   },
   {
    "duration": 314,
    "start_time": "2023-11-09T03:43:38.647Z"
   },
   {
    "duration": 21,
    "start_time": "2023-11-09T03:43:48.177Z"
   },
   {
    "duration": 29,
    "start_time": "2023-11-09T03:44:14.278Z"
   },
   {
    "duration": 18,
    "start_time": "2023-11-09T03:44:24.028Z"
   },
   {
    "duration": 18,
    "start_time": "2023-11-09T03:45:11.714Z"
   },
   {
    "duration": 5,
    "start_time": "2023-11-09T03:53:30.573Z"
   },
   {
    "duration": 143,
    "start_time": "2023-11-09T03:56:05.572Z"
   },
   {
    "duration": 46,
    "start_time": "2023-11-09T03:57:17.617Z"
   },
   {
    "duration": 35,
    "start_time": "2023-11-09T03:58:16.226Z"
   },
   {
    "duration": 216,
    "start_time": "2023-11-09T04:01:03.372Z"
   },
   {
    "duration": 411,
    "start_time": "2023-11-09T04:03:12.989Z"
   },
   {
    "duration": 377,
    "start_time": "2023-11-09T04:04:09.394Z"
   },
   {
    "duration": 3,
    "start_time": "2023-11-09T16:55:38.665Z"
   },
   {
    "duration": 54,
    "start_time": "2023-11-09T16:56:54.420Z"
   },
   {
    "duration": 2022,
    "start_time": "2023-11-09T16:57:03.378Z"
   },
   {
    "duration": 102,
    "start_time": "2023-11-09T16:57:05.403Z"
   },
   {
    "duration": 25,
    "start_time": "2023-11-09T16:57:05.507Z"
   },
   {
    "duration": 21,
    "start_time": "2023-11-09T16:57:05.534Z"
   },
   {
    "duration": 12,
    "start_time": "2023-11-09T16:57:05.558Z"
   },
   {
    "duration": 13,
    "start_time": "2023-11-09T16:57:05.571Z"
   },
   {
    "duration": 23,
    "start_time": "2023-11-09T16:57:05.585Z"
   },
   {
    "duration": 3,
    "start_time": "2023-11-09T16:57:05.610Z"
   },
   {
    "duration": 54,
    "start_time": "2023-11-09T16:57:05.615Z"
   },
   {
    "duration": 11,
    "start_time": "2023-11-09T16:57:05.671Z"
   },
   {
    "duration": 36,
    "start_time": "2023-11-09T16:57:05.684Z"
   },
   {
    "duration": 6,
    "start_time": "2023-11-09T16:57:05.723Z"
   },
   {
    "duration": 15,
    "start_time": "2023-11-09T16:57:05.731Z"
   },
   {
    "duration": 32,
    "start_time": "2023-11-09T16:57:05.749Z"
   },
   {
    "duration": 17,
    "start_time": "2023-11-09T16:57:05.782Z"
   },
   {
    "duration": 21,
    "start_time": "2023-11-09T16:57:05.801Z"
   },
   {
    "duration": 21,
    "start_time": "2023-11-09T16:57:05.824Z"
   },
   {
    "duration": 34,
    "start_time": "2023-11-09T16:57:05.847Z"
   },
   {
    "duration": 67,
    "start_time": "2023-11-09T16:57:05.883Z"
   },
   {
    "duration": 405,
    "start_time": "2023-11-09T16:57:05.952Z"
   },
   {
    "duration": 326,
    "start_time": "2023-11-09T16:57:06.359Z"
   },
   {
    "duration": 228,
    "start_time": "2023-11-09T16:57:06.687Z"
   },
   {
    "duration": 262,
    "start_time": "2023-11-09T16:57:06.916Z"
   },
   {
    "duration": 231,
    "start_time": "2023-11-09T16:57:07.181Z"
   },
   {
    "duration": 265,
    "start_time": "2023-11-09T16:57:07.414Z"
   },
   {
    "duration": 1330,
    "start_time": "2023-11-09T16:57:07.681Z"
   },
   {
    "duration": 157,
    "start_time": "2023-11-09T16:57:09.012Z"
   },
   {
    "duration": 148,
    "start_time": "2023-11-09T16:57:09.171Z"
   },
   {
    "duration": 251,
    "start_time": "2023-11-09T16:57:09.321Z"
   },
   {
    "duration": 35,
    "start_time": "2023-11-09T16:57:09.575Z"
   },
   {
    "duration": 3,
    "start_time": "2023-11-09T16:57:09.612Z"
   },
   {
    "duration": 413,
    "start_time": "2023-11-09T16:57:09.616Z"
   },
   {
    "duration": 415,
    "start_time": "2023-11-09T16:57:22.547Z"
   },
   {
    "duration": 424,
    "start_time": "2023-11-09T17:08:26.896Z"
   },
   {
    "duration": 12,
    "start_time": "2023-11-09T17:15:24.736Z"
   },
   {
    "duration": 12,
    "start_time": "2023-11-09T17:17:44.103Z"
   },
   {
    "duration": 10,
    "start_time": "2023-11-09T17:18:43.605Z"
   },
   {
    "duration": 10,
    "start_time": "2023-11-09T17:19:37.285Z"
   },
   {
    "duration": 11,
    "start_time": "2023-11-09T17:19:40.389Z"
   },
   {
    "duration": 13,
    "start_time": "2023-11-09T17:22:00.470Z"
   },
   {
    "duration": 8,
    "start_time": "2023-11-09T17:33:49.436Z"
   },
   {
    "duration": 7,
    "start_time": "2023-11-09T17:34:05.891Z"
   },
   {
    "duration": 5,
    "start_time": "2023-11-09T17:35:52.012Z"
   },
   {
    "duration": 5,
    "start_time": "2023-11-09T17:35:55.987Z"
   },
   {
    "duration": 5,
    "start_time": "2023-11-09T17:36:36.810Z"
   },
   {
    "duration": 10,
    "start_time": "2023-11-09T17:37:51.876Z"
   },
   {
    "duration": 5,
    "start_time": "2023-11-09T17:44:58.090Z"
   },
   {
    "duration": 180,
    "start_time": "2023-11-09T17:58:42.436Z"
   },
   {
    "duration": 272,
    "start_time": "2023-11-09T17:58:49.862Z"
   },
   {
    "duration": 182,
    "start_time": "2023-11-09T17:58:54.703Z"
   },
   {
    "duration": 161,
    "start_time": "2023-11-09T17:58:56.658Z"
   },
   {
    "duration": 13,
    "start_time": "2023-11-09T17:59:45.722Z"
   },
   {
    "duration": 171,
    "start_time": "2023-11-09T17:59:52.719Z"
   },
   {
    "duration": 181,
    "start_time": "2023-11-09T18:00:01.619Z"
   },
   {
    "duration": 1257,
    "start_time": "2023-11-09T18:02:08.014Z"
   },
   {
    "duration": 189,
    "start_time": "2023-11-09T18:03:14.397Z"
   },
   {
    "duration": 197,
    "start_time": "2023-11-09T18:03:29.137Z"
   },
   {
    "duration": 179,
    "start_time": "2023-11-09T18:03:54.560Z"
   },
   {
    "duration": 259,
    "start_time": "2023-11-09T18:06:01.530Z"
   },
   {
    "duration": 17,
    "start_time": "2023-11-09T18:11:28.370Z"
   },
   {
    "duration": 547,
    "start_time": "2023-11-09T18:11:41.221Z"
   },
   {
    "duration": 466,
    "start_time": "2023-11-09T18:12:30.393Z"
   },
   {
    "duration": 442,
    "start_time": "2023-11-09T18:12:41.186Z"
   },
   {
    "duration": 462,
    "start_time": "2023-11-09T18:14:48.766Z"
   },
   {
    "duration": 482,
    "start_time": "2023-11-09T18:16:47.458Z"
   },
   {
    "duration": 513,
    "start_time": "2023-11-09T18:19:18.482Z"
   },
   {
    "duration": 467,
    "start_time": "2023-11-09T18:20:46.108Z"
   },
   {
    "duration": 469,
    "start_time": "2023-11-09T18:37:54.043Z"
   },
   {
    "duration": 472,
    "start_time": "2023-11-09T18:39:26.831Z"
   },
   {
    "duration": 1299,
    "start_time": "2023-11-09T18:44:42.014Z"
   },
   {
    "duration": 58,
    "start_time": "2023-11-09T18:44:43.315Z"
   },
   {
    "duration": 21,
    "start_time": "2023-11-09T18:44:43.374Z"
   },
   {
    "duration": 16,
    "start_time": "2023-11-09T18:44:43.397Z"
   },
   {
    "duration": 10,
    "start_time": "2023-11-09T18:44:43.414Z"
   },
   {
    "duration": 12,
    "start_time": "2023-11-09T18:44:43.448Z"
   },
   {
    "duration": 23,
    "start_time": "2023-11-09T18:44:43.462Z"
   },
   {
    "duration": 4,
    "start_time": "2023-11-09T18:44:43.487Z"
   },
   {
    "duration": 27,
    "start_time": "2023-11-09T18:44:43.492Z"
   },
   {
    "duration": 26,
    "start_time": "2023-11-09T18:44:43.522Z"
   },
   {
    "duration": 9,
    "start_time": "2023-11-09T18:44:43.549Z"
   },
   {
    "duration": 5,
    "start_time": "2023-11-09T18:44:43.559Z"
   },
   {
    "duration": 13,
    "start_time": "2023-11-09T18:44:43.566Z"
   },
   {
    "duration": 10,
    "start_time": "2023-11-09T18:44:43.580Z"
   },
   {
    "duration": 7,
    "start_time": "2023-11-09T18:44:43.592Z"
   },
   {
    "duration": 5,
    "start_time": "2023-11-09T18:44:43.601Z"
   },
   {
    "duration": 41,
    "start_time": "2023-11-09T18:44:43.607Z"
   },
   {
    "duration": 12,
    "start_time": "2023-11-09T18:44:43.649Z"
   },
   {
    "duration": 6,
    "start_time": "2023-11-09T18:44:43.662Z"
   },
   {
    "duration": 23,
    "start_time": "2023-11-09T18:44:43.670Z"
   },
   {
    "duration": 411,
    "start_time": "2023-11-09T18:44:43.694Z"
   },
   {
    "duration": 314,
    "start_time": "2023-11-09T18:44:44.107Z"
   },
   {
    "duration": 233,
    "start_time": "2023-11-09T18:44:44.422Z"
   },
   {
    "duration": 229,
    "start_time": "2023-11-09T18:44:44.657Z"
   },
   {
    "duration": 244,
    "start_time": "2023-11-09T18:44:44.888Z"
   },
   {
    "duration": 289,
    "start_time": "2023-11-09T18:44:45.134Z"
   },
   {
    "duration": 1262,
    "start_time": "2023-11-09T18:44:45.425Z"
   },
   {
    "duration": 202,
    "start_time": "2023-11-09T18:44:46.691Z"
   },
   {
    "duration": 190,
    "start_time": "2023-11-09T18:44:46.894Z"
   },
   {
    "duration": 263,
    "start_time": "2023-11-09T18:44:47.086Z"
   },
   {
    "duration": 511,
    "start_time": "2023-11-09T18:44:47.351Z"
   },
   {
    "duration": 490,
    "start_time": "2023-11-09T18:44:47.863Z"
   },
   {
    "duration": 471,
    "start_time": "2023-11-09T18:44:48.355Z"
   },
   {
    "duration": 19,
    "start_time": "2023-11-09T18:44:48.828Z"
   },
   {
    "duration": 11,
    "start_time": "2023-11-09T18:44:48.849Z"
   },
   {
    "duration": 1216,
    "start_time": "2023-11-09T19:15:31.801Z"
   },
   {
    "duration": 58,
    "start_time": "2023-11-09T19:15:33.020Z"
   },
   {
    "duration": 21,
    "start_time": "2023-11-09T19:15:33.080Z"
   },
   {
    "duration": 15,
    "start_time": "2023-11-09T19:15:33.103Z"
   },
   {
    "duration": 10,
    "start_time": "2023-11-09T19:15:33.121Z"
   },
   {
    "duration": 12,
    "start_time": "2023-11-09T19:15:33.133Z"
   },
   {
    "duration": 65,
    "start_time": "2023-11-09T19:15:33.146Z"
   },
   {
    "duration": 4,
    "start_time": "2023-11-09T19:15:33.213Z"
   },
   {
    "duration": 26,
    "start_time": "2023-11-09T19:15:33.219Z"
   },
   {
    "duration": 21,
    "start_time": "2023-11-09T19:15:33.247Z"
   },
   {
    "duration": 9,
    "start_time": "2023-11-09T19:15:33.280Z"
   },
   {
    "duration": 5,
    "start_time": "2023-11-09T19:15:33.291Z"
   },
   {
    "duration": 6,
    "start_time": "2023-11-09T19:15:33.297Z"
   },
   {
    "duration": 9,
    "start_time": "2023-11-09T19:15:33.306Z"
   },
   {
    "duration": 6,
    "start_time": "2023-11-09T19:15:33.317Z"
   },
   {
    "duration": 6,
    "start_time": "2023-11-09T19:15:33.324Z"
   },
   {
    "duration": 50,
    "start_time": "2023-11-09T19:15:33.332Z"
   },
   {
    "duration": 11,
    "start_time": "2023-11-09T19:15:33.384Z"
   },
   {
    "duration": 7,
    "start_time": "2023-11-09T19:15:33.397Z"
   },
   {
    "duration": 24,
    "start_time": "2023-11-09T19:15:33.405Z"
   },
   {
    "duration": 422,
    "start_time": "2023-11-09T19:15:33.431Z"
   },
   {
    "duration": 320,
    "start_time": "2023-11-09T19:15:33.854Z"
   },
   {
    "duration": 232,
    "start_time": "2023-11-09T19:15:34.175Z"
   },
   {
    "duration": 221,
    "start_time": "2023-11-09T19:15:34.409Z"
   },
   {
    "duration": 221,
    "start_time": "2023-11-09T19:15:34.632Z"
   },
   {
    "duration": 218,
    "start_time": "2023-11-09T19:15:34.855Z"
   },
   {
    "duration": 1284,
    "start_time": "2023-11-09T19:15:35.080Z"
   },
   {
    "duration": 215,
    "start_time": "2023-11-09T19:15:36.366Z"
   },
   {
    "duration": 252,
    "start_time": "2023-11-09T19:15:36.584Z"
   },
   {
    "duration": 298,
    "start_time": "2023-11-09T19:15:36.838Z"
   },
   {
    "duration": 475,
    "start_time": "2023-11-09T19:15:37.138Z"
   },
   {
    "duration": 477,
    "start_time": "2023-11-09T19:15:37.614Z"
   },
   {
    "duration": 466,
    "start_time": "2023-11-09T19:15:38.093Z"
   },
   {
    "duration": 25,
    "start_time": "2023-11-09T19:15:38.560Z"
   },
   {
    "duration": 30,
    "start_time": "2023-11-09T19:15:38.588Z"
   },
   {
    "duration": 1261,
    "start_time": "2023-11-09T19:50:01.839Z"
   },
   {
    "duration": 55,
    "start_time": "2023-11-09T19:50:03.102Z"
   },
   {
    "duration": 21,
    "start_time": "2023-11-09T19:50:03.158Z"
   },
   {
    "duration": 16,
    "start_time": "2023-11-09T19:50:03.183Z"
   },
   {
    "duration": 11,
    "start_time": "2023-11-09T19:50:03.201Z"
   },
   {
    "duration": 12,
    "start_time": "2023-11-09T19:50:03.214Z"
   },
   {
    "duration": 17,
    "start_time": "2023-11-09T19:50:03.228Z"
   },
   {
    "duration": 37,
    "start_time": "2023-11-09T19:50:03.246Z"
   },
   {
    "duration": 36,
    "start_time": "2023-11-09T19:50:03.285Z"
   },
   {
    "duration": 12,
    "start_time": "2023-11-09T19:50:03.323Z"
   },
   {
    "duration": 37,
    "start_time": "2023-11-09T19:50:03.336Z"
   },
   {
    "duration": 12,
    "start_time": "2023-11-09T19:50:03.375Z"
   },
   {
    "duration": 21,
    "start_time": "2023-11-09T19:50:03.389Z"
   },
   {
    "duration": 18,
    "start_time": "2023-11-09T19:50:03.412Z"
   },
   {
    "duration": 11,
    "start_time": "2023-11-09T19:50:03.432Z"
   },
   {
    "duration": 21,
    "start_time": "2023-11-09T19:50:03.445Z"
   },
   {
    "duration": 19,
    "start_time": "2023-11-09T19:50:03.468Z"
   },
   {
    "duration": 19,
    "start_time": "2023-11-09T19:50:03.489Z"
   },
   {
    "duration": 10,
    "start_time": "2023-11-09T19:50:03.510Z"
   },
   {
    "duration": 33,
    "start_time": "2023-11-09T19:50:03.522Z"
   },
   {
    "duration": 357,
    "start_time": "2023-11-09T19:50:03.557Z"
   },
   {
    "duration": 303,
    "start_time": "2023-11-09T19:50:03.916Z"
   },
   {
    "duration": 223,
    "start_time": "2023-11-09T19:50:04.221Z"
   },
   {
    "duration": 208,
    "start_time": "2023-11-09T19:50:04.446Z"
   },
   {
    "duration": 207,
    "start_time": "2023-11-09T19:50:04.656Z"
   },
   {
    "duration": 209,
    "start_time": "2023-11-09T19:50:04.865Z"
   },
   {
    "duration": 1211,
    "start_time": "2023-11-09T19:50:05.076Z"
   },
   {
    "duration": 203,
    "start_time": "2023-11-09T19:50:06.290Z"
   },
   {
    "duration": 235,
    "start_time": "2023-11-09T19:50:06.495Z"
   },
   {
    "duration": 279,
    "start_time": "2023-11-09T19:50:06.732Z"
   },
   {
    "duration": 453,
    "start_time": "2023-11-09T19:50:07.012Z"
   },
   {
    "duration": 452,
    "start_time": "2023-11-09T19:50:07.467Z"
   },
   {
    "duration": 447,
    "start_time": "2023-11-09T19:50:07.921Z"
   },
   {
    "duration": 20,
    "start_time": "2023-11-09T19:50:08.370Z"
   },
   {
    "duration": 11,
    "start_time": "2023-11-09T19:50:08.392Z"
   },
   {
    "duration": 108,
    "start_time": "2023-11-09T21:46:00.543Z"
   },
   {
    "duration": 26,
    "start_time": "2023-11-09T21:49:42.021Z"
   },
   {
    "duration": 22,
    "start_time": "2023-11-09T21:55:52.133Z"
   },
   {
    "duration": 5,
    "start_time": "2023-11-09T21:56:22.983Z"
   },
   {
    "duration": 4,
    "start_time": "2023-11-09T21:56:55.274Z"
   },
   {
    "duration": 9,
    "start_time": "2023-11-09T22:21:29.921Z"
   },
   {
    "duration": 69,
    "start_time": "2023-11-10T03:24:14.878Z"
   },
   {
    "duration": 1909,
    "start_time": "2023-11-10T03:24:21.954Z"
   },
   {
    "duration": 98,
    "start_time": "2023-11-10T03:24:23.865Z"
   },
   {
    "duration": 21,
    "start_time": "2023-11-10T03:24:23.965Z"
   },
   {
    "duration": 15,
    "start_time": "2023-11-10T03:24:23.988Z"
   },
   {
    "duration": 28,
    "start_time": "2023-11-10T03:24:24.005Z"
   },
   {
    "duration": 10,
    "start_time": "2023-11-10T03:24:24.035Z"
   },
   {
    "duration": 24,
    "start_time": "2023-11-10T03:24:24.047Z"
   },
   {
    "duration": 100,
    "start_time": "2023-11-10T03:24:24.073Z"
   },
   {
    "duration": 0,
    "start_time": "2023-11-10T03:24:24.181Z"
   },
   {
    "duration": 0,
    "start_time": "2023-11-10T03:24:24.182Z"
   },
   {
    "duration": 0,
    "start_time": "2023-11-10T03:24:24.183Z"
   },
   {
    "duration": 0,
    "start_time": "2023-11-10T03:24:24.184Z"
   },
   {
    "duration": 0,
    "start_time": "2023-11-10T03:24:24.185Z"
   },
   {
    "duration": 0,
    "start_time": "2023-11-10T03:24:24.186Z"
   },
   {
    "duration": 0,
    "start_time": "2023-11-10T03:24:24.188Z"
   },
   {
    "duration": 0,
    "start_time": "2023-11-10T03:24:24.189Z"
   },
   {
    "duration": 0,
    "start_time": "2023-11-10T03:24:24.190Z"
   },
   {
    "duration": 0,
    "start_time": "2023-11-10T03:24:24.191Z"
   },
   {
    "duration": 0,
    "start_time": "2023-11-10T03:24:24.192Z"
   },
   {
    "duration": 0,
    "start_time": "2023-11-10T03:24:24.193Z"
   },
   {
    "duration": 0,
    "start_time": "2023-11-10T03:24:24.194Z"
   },
   {
    "duration": 0,
    "start_time": "2023-11-10T03:24:24.195Z"
   },
   {
    "duration": 0,
    "start_time": "2023-11-10T03:24:24.196Z"
   },
   {
    "duration": 0,
    "start_time": "2023-11-10T03:24:24.197Z"
   },
   {
    "duration": 0,
    "start_time": "2023-11-10T03:24:24.198Z"
   },
   {
    "duration": 0,
    "start_time": "2023-11-10T03:24:24.199Z"
   },
   {
    "duration": 0,
    "start_time": "2023-11-10T03:24:24.200Z"
   },
   {
    "duration": 0,
    "start_time": "2023-11-10T03:24:24.201Z"
   },
   {
    "duration": 0,
    "start_time": "2023-11-10T03:24:24.202Z"
   },
   {
    "duration": 0,
    "start_time": "2023-11-10T03:24:24.203Z"
   },
   {
    "duration": 0,
    "start_time": "2023-11-10T03:24:24.203Z"
   },
   {
    "duration": 0,
    "start_time": "2023-11-10T03:24:24.204Z"
   },
   {
    "duration": 0,
    "start_time": "2023-11-10T03:24:24.205Z"
   },
   {
    "duration": 0,
    "start_time": "2023-11-10T03:24:24.206Z"
   },
   {
    "duration": 0,
    "start_time": "2023-11-10T03:24:24.207Z"
   },
   {
    "duration": 0,
    "start_time": "2023-11-10T03:24:24.208Z"
   },
   {
    "duration": 0,
    "start_time": "2023-11-10T03:24:24.209Z"
   },
   {
    "duration": 0,
    "start_time": "2023-11-10T03:24:24.211Z"
   },
   {
    "duration": 0,
    "start_time": "2023-11-10T03:24:24.211Z"
   },
   {
    "duration": 0,
    "start_time": "2023-11-10T03:24:24.212Z"
   },
   {
    "duration": 17,
    "start_time": "2023-11-10T03:25:29.277Z"
   },
   {
    "duration": 1409,
    "start_time": "2023-11-10T03:32:59.393Z"
   },
   {
    "duration": 1264,
    "start_time": "2023-11-10T03:33:24.744Z"
   },
   {
    "duration": 56,
    "start_time": "2023-11-10T03:33:26.010Z"
   },
   {
    "duration": 20,
    "start_time": "2023-11-10T03:33:26.068Z"
   },
   {
    "duration": 15,
    "start_time": "2023-11-10T03:33:26.090Z"
   },
   {
    "duration": 9,
    "start_time": "2023-11-10T03:33:26.107Z"
   },
   {
    "duration": 18,
    "start_time": "2023-11-10T03:33:26.117Z"
   },
   {
    "duration": 17,
    "start_time": "2023-11-10T03:33:26.136Z"
   },
   {
    "duration": 44,
    "start_time": "2023-11-10T03:33:26.154Z"
   },
   {
    "duration": 4,
    "start_time": "2023-11-10T03:33:26.200Z"
   },
   {
    "duration": 28,
    "start_time": "2023-11-10T03:33:26.206Z"
   },
   {
    "duration": 7,
    "start_time": "2023-11-10T03:33:26.236Z"
   },
   {
    "duration": 9,
    "start_time": "2023-11-10T03:33:26.245Z"
   },
   {
    "duration": 5,
    "start_time": "2023-11-10T03:33:26.281Z"
   },
   {
    "duration": 14,
    "start_time": "2023-11-10T03:33:26.290Z"
   },
   {
    "duration": 10,
    "start_time": "2023-11-10T03:33:26.306Z"
   },
   {
    "duration": 6,
    "start_time": "2023-11-10T03:33:26.318Z"
   },
   {
    "duration": 15,
    "start_time": "2023-11-10T03:33:26.325Z"
   },
   {
    "duration": 7,
    "start_time": "2023-11-10T03:33:26.342Z"
   },
   {
    "duration": 42,
    "start_time": "2023-11-10T03:33:26.351Z"
   },
   {
    "duration": 12,
    "start_time": "2023-11-10T03:33:26.396Z"
   },
   {
    "duration": 33,
    "start_time": "2023-11-10T03:33:26.410Z"
   },
   {
    "duration": 142,
    "start_time": "2023-11-10T03:33:26.445Z"
   },
   {
    "duration": 445,
    "start_time": "2023-11-10T03:33:26.589Z"
   },
   {
    "duration": 316,
    "start_time": "2023-11-10T03:33:27.036Z"
   },
   {
    "duration": 229,
    "start_time": "2023-11-10T03:33:27.354Z"
   },
   {
    "duration": 218,
    "start_time": "2023-11-10T03:33:27.585Z"
   },
   {
    "duration": 405,
    "start_time": "2023-11-10T03:33:27.805Z"
   },
   {
    "duration": 472,
    "start_time": "2023-11-10T03:33:28.212Z"
   },
   {
    "duration": 28,
    "start_time": "2023-11-10T03:33:28.687Z"
   },
   {
    "duration": 1781,
    "start_time": "2023-11-10T03:33:28.717Z"
   },
   {
    "duration": 5,
    "start_time": "2023-11-10T03:33:30.500Z"
   },
   {
    "duration": 228,
    "start_time": "2023-11-10T03:33:30.506Z"
   },
   {
    "duration": 181,
    "start_time": "2023-11-10T03:33:30.736Z"
   },
   {
    "duration": 257,
    "start_time": "2023-11-10T03:33:30.918Z"
   },
   {
    "duration": 489,
    "start_time": "2023-11-10T03:33:31.177Z"
   },
   {
    "duration": 456,
    "start_time": "2023-11-10T03:33:31.668Z"
   },
   {
    "duration": 458,
    "start_time": "2023-11-10T03:33:32.125Z"
   },
   {
    "duration": 10,
    "start_time": "2023-11-10T03:33:32.585Z"
   },
   {
    "duration": 15,
    "start_time": "2023-11-10T03:33:32.597Z"
   },
   {
    "duration": 21,
    "start_time": "2023-11-10T03:33:32.614Z"
   },
   {
    "duration": 4,
    "start_time": "2023-11-10T03:33:48.995Z"
   },
   {
    "duration": 5,
    "start_time": "2023-11-10T03:34:14.868Z"
   },
   {
    "duration": 11,
    "start_time": "2023-11-10T03:36:33.965Z"
   },
   {
    "duration": 5,
    "start_time": "2023-11-10T03:39:02.641Z"
   },
   {
    "duration": 5,
    "start_time": "2023-11-10T03:39:51.138Z"
   },
   {
    "duration": 7,
    "start_time": "2023-11-10T03:41:35.207Z"
   },
   {
    "duration": 11,
    "start_time": "2023-11-10T03:42:49.223Z"
   },
   {
    "duration": 73,
    "start_time": "2023-11-10T04:01:27.801Z"
   },
   {
    "duration": 78,
    "start_time": "2023-11-10T04:22:07.014Z"
   },
   {
    "duration": 333,
    "start_time": "2023-11-10T04:22:18.564Z"
   },
   {
    "duration": 187,
    "start_time": "2023-11-10T04:22:26.709Z"
   },
   {
    "duration": 270,
    "start_time": "2023-11-10T04:22:41.750Z"
   },
   {
    "duration": 282,
    "start_time": "2023-11-10T04:23:38.431Z"
   },
   {
    "duration": 281,
    "start_time": "2023-11-10T04:24:02.599Z"
   },
   {
    "duration": 285,
    "start_time": "2023-11-10T04:25:59.777Z"
   },
   {
    "duration": 415,
    "start_time": "2023-11-10T04:26:04.806Z"
   },
   {
    "duration": 307,
    "start_time": "2023-11-10T04:26:13.207Z"
   },
   {
    "duration": 5,
    "start_time": "2023-11-10T04:34:37.168Z"
   },
   {
    "duration": 195,
    "start_time": "2023-11-10T04:34:59.308Z"
   },
   {
    "duration": 283,
    "start_time": "2023-11-10T04:38:21.261Z"
   },
   {
    "duration": 357,
    "start_time": "2023-11-10T04:38:46.584Z"
   },
   {
    "duration": 172,
    "start_time": "2023-11-10T04:43:42.654Z"
   },
   {
    "duration": 180,
    "start_time": "2023-11-10T04:45:36.109Z"
   },
   {
    "duration": 174,
    "start_time": "2023-11-10T04:45:44.208Z"
   },
   {
    "duration": 249,
    "start_time": "2023-11-10T04:47:01.602Z"
   },
   {
    "duration": 589,
    "start_time": "2023-11-10T04:47:32.675Z"
   },
   {
    "duration": 484,
    "start_time": "2023-11-10T04:48:34.934Z"
   },
   {
    "duration": 461,
    "start_time": "2023-11-10T04:49:54.246Z"
   },
   {
    "duration": 8,
    "start_time": "2023-11-10T04:53:44.369Z"
   },
   {
    "duration": 8,
    "start_time": "2023-11-10T04:54:24.723Z"
   },
   {
    "duration": 9,
    "start_time": "2023-11-10T04:55:38.466Z"
   },
   {
    "duration": 9,
    "start_time": "2023-11-10T05:02:03.634Z"
   },
   {
    "duration": 9,
    "start_time": "2023-11-10T05:22:23.708Z"
   },
   {
    "duration": 169,
    "start_time": "2023-11-10T05:36:45.957Z"
   },
   {
    "duration": 181,
    "start_time": "2023-11-10T05:36:52.220Z"
   },
   {
    "duration": 216,
    "start_time": "2023-11-10T05:38:56.758Z"
   },
   {
    "duration": 165,
    "start_time": "2023-11-10T05:39:24.081Z"
   },
   {
    "duration": 145,
    "start_time": "2023-11-10T05:39:52.732Z"
   },
   {
    "duration": 13,
    "start_time": "2023-11-10T05:41:36.958Z"
   },
   {
    "duration": 181,
    "start_time": "2023-11-10T05:41:52.260Z"
   },
   {
    "duration": 305,
    "start_time": "2023-11-10T05:42:25.008Z"
   },
   {
    "duration": 156,
    "start_time": "2023-11-10T05:42:38.104Z"
   },
   {
    "duration": 183,
    "start_time": "2023-11-10T05:42:49.368Z"
   },
   {
    "duration": 164,
    "start_time": "2023-11-10T05:43:19.737Z"
   },
   {
    "duration": 178,
    "start_time": "2023-11-10T05:43:50.436Z"
   },
   {
    "duration": 177,
    "start_time": "2023-11-10T05:44:21.737Z"
   },
   {
    "duration": 187,
    "start_time": "2023-11-10T05:44:55.366Z"
   },
   {
    "duration": 170,
    "start_time": "2023-11-10T05:45:24.509Z"
   },
   {
    "duration": 219,
    "start_time": "2023-11-10T05:45:46.749Z"
   },
   {
    "duration": 174,
    "start_time": "2023-11-10T05:46:05.166Z"
   },
   {
    "duration": 209,
    "start_time": "2023-11-10T05:46:26.432Z"
   },
   {
    "duration": 215,
    "start_time": "2023-11-10T05:46:46.589Z"
   },
   {
    "duration": 175,
    "start_time": "2023-11-10T05:47:27.298Z"
   },
   {
    "duration": 286,
    "start_time": "2023-11-10T05:48:15.248Z"
   },
   {
    "duration": 169,
    "start_time": "2023-11-10T05:50:34.363Z"
   },
   {
    "duration": 159,
    "start_time": "2023-11-10T05:50:39.208Z"
   },
   {
    "duration": 340,
    "start_time": "2023-11-10T06:03:38.500Z"
   },
   {
    "duration": 337,
    "start_time": "2023-11-10T06:04:08.214Z"
   },
   {
    "duration": 2330,
    "start_time": "2023-11-10T06:19:10.223Z"
   },
   {
    "duration": 3,
    "start_time": "2023-11-10T15:38:53.259Z"
   },
   {
    "duration": 52,
    "start_time": "2023-11-10T15:38:53.263Z"
   },
   {
    "duration": 15,
    "start_time": "2023-11-10T15:38:53.317Z"
   },
   {
    "duration": 17,
    "start_time": "2023-11-10T15:38:53.333Z"
   },
   {
    "duration": 10,
    "start_time": "2023-11-10T15:38:53.351Z"
   },
   {
    "duration": 9,
    "start_time": "2023-11-10T15:38:53.362Z"
   },
   {
    "duration": 14,
    "start_time": "2023-11-10T15:38:53.373Z"
   },
   {
    "duration": 13,
    "start_time": "2023-11-10T15:38:53.389Z"
   },
   {
    "duration": 3,
    "start_time": "2023-11-10T15:38:53.403Z"
   },
   {
    "duration": 17,
    "start_time": "2023-11-10T15:38:53.440Z"
   },
   {
    "duration": 4,
    "start_time": "2023-11-10T15:38:53.459Z"
   },
   {
    "duration": 7,
    "start_time": "2023-11-10T15:38:53.464Z"
   },
   {
    "duration": 3,
    "start_time": "2023-11-10T15:38:53.473Z"
   },
   {
    "duration": 6,
    "start_time": "2023-11-10T15:38:53.477Z"
   },
   {
    "duration": 9,
    "start_time": "2023-11-10T15:38:53.485Z"
   },
   {
    "duration": 5,
    "start_time": "2023-11-10T15:38:53.495Z"
   },
   {
    "duration": 8,
    "start_time": "2023-11-10T15:38:53.501Z"
   },
   {
    "duration": 4,
    "start_time": "2023-11-10T15:38:53.540Z"
   },
   {
    "duration": 17,
    "start_time": "2023-11-10T15:38:53.545Z"
   },
   {
    "duration": 4,
    "start_time": "2023-11-10T15:38:53.563Z"
   },
   {
    "duration": 20,
    "start_time": "2023-11-10T15:38:53.569Z"
   },
   {
    "duration": 104,
    "start_time": "2023-11-10T15:38:53.590Z"
   },
   {
    "duration": 9,
    "start_time": "2023-11-10T15:38:53.695Z"
   },
   {
    "duration": 5,
    "start_time": "2023-11-10T15:38:53.705Z"
   },
   {
    "duration": 12,
    "start_time": "2023-11-10T15:38:53.711Z"
   },
   {
    "duration": 18,
    "start_time": "2023-11-10T15:38:53.724Z"
   },
   {
    "duration": 288,
    "start_time": "2023-11-10T15:38:53.743Z"
   },
   {
    "duration": 254,
    "start_time": "2023-11-10T15:38:54.033Z"
   },
   {
    "duration": 293,
    "start_time": "2023-11-10T15:38:54.289Z"
   },
   {
    "duration": 178,
    "start_time": "2023-11-10T15:38:54.583Z"
   },
   {
    "duration": 183,
    "start_time": "2023-11-10T15:38:54.762Z"
   },
   {
    "duration": 179,
    "start_time": "2023-11-10T15:38:54.946Z"
   },
   {
    "duration": 33,
    "start_time": "2023-11-10T15:38:55.126Z"
   },
   {
    "duration": 999,
    "start_time": "2023-11-10T15:38:55.160Z"
   },
   {
    "duration": 248,
    "start_time": "2023-11-10T15:38:56.160Z"
   },
   {
    "duration": 3,
    "start_time": "2023-11-10T15:38:56.410Z"
   },
   {
    "duration": 16,
    "start_time": "2023-11-10T15:38:56.414Z"
   },
   {
    "duration": 147,
    "start_time": "2023-11-10T15:38:56.431Z"
   },
   {
    "duration": 19,
    "start_time": "2023-11-10T15:38:56.579Z"
   },
   {
    "duration": 158,
    "start_time": "2023-11-10T15:38:56.599Z"
   },
   {
    "duration": 126,
    "start_time": "2023-11-10T15:38:56.758Z"
   },
   {
    "duration": 211,
    "start_time": "2023-11-10T15:38:56.886Z"
   },
   {
    "duration": 153,
    "start_time": "2023-11-10T15:38:57.099Z"
   },
   {
    "duration": 162,
    "start_time": "2023-11-10T15:38:57.254Z"
   },
   {
    "duration": 153,
    "start_time": "2023-11-10T15:38:57.417Z"
   },
   {
    "duration": 149,
    "start_time": "2023-11-10T15:38:57.572Z"
   },
   {
    "duration": 142,
    "start_time": "2023-11-10T15:38:57.723Z"
   },
   {
    "duration": 145,
    "start_time": "2023-11-10T15:38:57.867Z"
   },
   {
    "duration": 209,
    "start_time": "2023-11-10T15:38:58.014Z"
   },
   {
    "duration": 261,
    "start_time": "2023-11-10T15:38:58.224Z"
   },
   {
    "duration": 456,
    "start_time": "2023-11-10T15:38:58.486Z"
   },
   {
    "duration": 377,
    "start_time": "2023-11-10T15:38:58.944Z"
   },
   {
    "duration": 394,
    "start_time": "2023-11-10T15:38:59.322Z"
   },
   {
    "duration": 7,
    "start_time": "2023-11-10T15:38:59.717Z"
   },
   {
    "duration": 19,
    "start_time": "2023-11-10T15:38:59.725Z"
   },
   {
    "duration": 7,
    "start_time": "2023-11-10T15:38:59.745Z"
   }
  ],
  "kernelspec": {
   "display_name": "Python 3 (ipykernel)",
   "language": "python",
   "name": "python3"
  },
  "language_info": {
   "codemirror_mode": {
    "name": "ipython",
    "version": 3
   },
   "file_extension": ".py",
   "mimetype": "text/x-python",
   "name": "python",
   "nbconvert_exporter": "python",
   "pygments_lexer": "ipython3",
   "version": "3.9.19"
  },
  "toc": {
   "base_numbering": 1,
   "nav_menu": {},
   "number_sections": true,
   "sideBar": true,
   "skip_h1_title": true,
   "title_cell": "Table of Contents",
   "title_sidebar": "Contents",
   "toc_cell": false,
   "toc_position": {
    "height": "calc(100% - 180px)",
    "left": "10px",
    "top": "150px",
    "width": "191.943px"
   },
   "toc_section_display": true,
   "toc_window_display": true
  }
 },
 "nbformat": 4,
 "nbformat_minor": 4
}
